{
 "cells": [
  {
   "cell_type": "markdown",
   "metadata": {},
   "source": [
    "This project focuses on learning about Data wrangling,getting a grip about Recommendation System that being a Product Recommendation System. The main objective is to build a Product Recommendation System that recommends atleast 5 new products prioritizing the user's habits."
   ]
  },
  {
   "cell_type": "code",
   "execution_count": 2,
   "metadata": {},
   "outputs": [
    {
     "name": "stderr",
     "output_type": "stream",
     "text": [
      "C:\\ProgramData\\Anaconda3\\lib\\site-packages\\sklearn\\externals\\joblib\\__init__.py:15: DeprecationWarning: sklearn.externals.joblib is deprecated in 0.21 and will be removed in 0.23. Please import this functionality directly from joblib, which can be installed with: pip install joblib. If this warning is raised when loading pickled models, you may need to re-serialize those models with scikit-learn 0.21+.\n",
      "  warnings.warn(msg, category=DeprecationWarning)\n"
     ]
    }
   ],
   "source": [
    "#Importing the required libraries \n",
    "from IPython.core.interactiveshell import InteractiveShell\n",
    "InteractiveShell.ast_node_interactivity = \"all\"\n",
    "import numpy as np\n",
    "import pandas as pd\n",
    "import math\n",
    "import json\n",
    "import time\n",
    "import matplotlib.pyplot as plt\n",
    "import seaborn as sns\n",
    "from sklearn.metrics.pairwise import cosine_similarity\n",
    "from sklearn.model_selection import train_test_split\n",
    "from sklearn.neighbors import NearestNeighbors\n",
    "from sklearn.externals import joblib\n",
    "import scipy.sparse\n",
    "from scipy.sparse import csr_matrix\n",
    "from scipy.sparse.linalg import svds\n",
    "import warnings; warnings.simplefilter('ignore')\n",
    "%matplotlib inline"
   ]
  },
  {
   "cell_type": "markdown",
   "metadata": {},
   "source": [
    "# Now let's load the dataset and let's provide it with some columns "
   ]
  },
  {
   "cell_type": "code",
   "execution_count": 17,
   "metadata": {},
   "outputs": [
    {
     "data": {
      "text/html": [
       "<div>\n",
       "<style scoped>\n",
       "    .dataframe tbody tr th:only-of-type {\n",
       "        vertical-align: middle;\n",
       "    }\n",
       "\n",
       "    .dataframe tbody tr th {\n",
       "        vertical-align: top;\n",
       "    }\n",
       "\n",
       "    .dataframe thead th {\n",
       "        text-align: right;\n",
       "    }\n",
       "</style>\n",
       "<table border=\"1\" class=\"dataframe\">\n",
       "  <thead>\n",
       "    <tr style=\"text-align: right;\">\n",
       "      <th></th>\n",
       "      <th>UserId</th>\n",
       "      <th>ProductId</th>\n",
       "      <th>Rating</th>\n",
       "      <th>Timestamp</th>\n",
       "    </tr>\n",
       "  </thead>\n",
       "  <tbody>\n",
       "    <tr>\n",
       "      <td>0</td>\n",
       "      <td>A3L1GVWVJKWZZS</td>\n",
       "      <td>B0058UUR6E</td>\n",
       "      <td>5.0</td>\n",
       "      <td>1364774400</td>\n",
       "    </tr>\n",
       "    <tr>\n",
       "      <td>1</td>\n",
       "      <td>A08831071BVKZMKNCPI5S</td>\n",
       "      <td>B009ID0VVS</td>\n",
       "      <td>5.0</td>\n",
       "      <td>1357257600</td>\n",
       "    </tr>\n",
       "    <tr>\n",
       "      <td>2</td>\n",
       "      <td>A1SINU2I4IOPNU</td>\n",
       "      <td>B000GBO9IM</td>\n",
       "      <td>4.0</td>\n",
       "      <td>1358121600</td>\n",
       "    </tr>\n",
       "    <tr>\n",
       "      <td>3</td>\n",
       "      <td>A3P3P31EEOX2BD</td>\n",
       "      <td>B00CDCIOHO</td>\n",
       "      <td>3.0</td>\n",
       "      <td>1404950400</td>\n",
       "    </tr>\n",
       "    <tr>\n",
       "      <td>4</td>\n",
       "      <td>A3DBLJ3MPBJQMN</td>\n",
       "      <td>B000MS3VGA</td>\n",
       "      <td>5.0</td>\n",
       "      <td>1294444800</td>\n",
       "    </tr>\n",
       "  </tbody>\n",
       "</table>\n",
       "</div>"
      ],
      "text/plain": [
       "                  UserId   ProductId  Rating   Timestamp\n",
       "0         A3L1GVWVJKWZZS  B0058UUR6E     5.0  1364774400\n",
       "1  A08831071BVKZMKNCPI5S  B009ID0VVS     5.0  1357257600\n",
       "2         A1SINU2I4IOPNU  B000GBO9IM     4.0  1358121600\n",
       "3         A3P3P31EEOX2BD  B00CDCIOHO     3.0  1404950400\n",
       "4         A3DBLJ3MPBJQMN  B000MS3VGA     5.0  1294444800"
      ]
     },
     "execution_count": 17,
     "metadata": {},
     "output_type": "execute_result"
    }
   ],
   "source": [
    "zap_df = pd.read_csv('C:/Users/Hp/Downloads/Electronic_dataset.csv')\n",
    "zap_df.columns = ['UserId','ProductId','Rating','Timestamp']\n",
    "zap_df = zap_df.dropna()\n",
    "zap_df.head()"
   ]
  },
  {
   "cell_type": "markdown",
   "metadata": {},
   "source": [
    "Let's drop the timestamp column "
   ]
  },
  {
   "cell_type": "code",
   "execution_count": 18,
   "metadata": {},
   "outputs": [],
   "source": [
    "zap_df.drop('Timestamp',axis=1,inplace=True)"
   ]
  },
  {
   "cell_type": "code",
   "execution_count": 19,
   "metadata": {},
   "outputs": [
    {
     "name": "stdout",
     "output_type": "stream",
     "text": [
      "<class 'pandas.core.frame.DataFrame'>\n",
      "Int64Index: 500000 entries, 0 to 499999\n",
      "Data columns (total 3 columns):\n",
      "UserId       500000 non-null object\n",
      "ProductId    500000 non-null object\n",
      "Rating       500000 non-null float64\n",
      "dtypes: float64(1), object(2)\n",
      "memory usage: 15.3+ MB\n"
     ]
    }
   ],
   "source": [
    "zap_df.info()"
   ]
  },
  {
   "cell_type": "markdown",
   "metadata": {},
   "source": [
    "Let's eyeball the number of rows and columns "
   ]
  },
  {
   "cell_type": "code",
   "execution_count": 20,
   "metadata": {},
   "outputs": [
    {
     "name": "stdout",
     "output_type": "stream",
     "text": [
      "Number of rows:  500000\n",
      "Number of columns:  3\n"
     ]
    }
   ],
   "source": [
    "rows,columns=zap_df.shape\n",
    "print('Number of rows: ',rows)\n",
    "print('Number of columns: ',columns)"
   ]
  },
  {
   "cell_type": "markdown",
   "metadata": {},
   "source": [
    "Let's do a datatypes check now"
   ]
  },
  {
   "cell_type": "code",
   "execution_count": 21,
   "metadata": {},
   "outputs": [
    {
     "data": {
      "text/plain": [
       "UserId        object\n",
       "ProductId     object\n",
       "Rating       float64\n",
       "dtype: object"
      ]
     },
     "execution_count": 21,
     "metadata": {},
     "output_type": "execute_result"
    }
   ],
   "source": [
    "zap_df.dtypes"
   ]
  },
  {
   "cell_type": "code",
   "execution_count": 22,
   "metadata": {},
   "outputs": [
    {
     "data": {
      "text/plain": [
       "count    500000.000000\n",
       "mean          4.013172\n",
       "std           1.379996\n",
       "min           1.000000\n",
       "25%           3.000000\n",
       "50%           5.000000\n",
       "75%           5.000000\n",
       "max           5.000000\n",
       "Name: Rating, dtype: float64"
      ]
     },
     "execution_count": 22,
     "metadata": {},
     "output_type": "execute_result"
    }
   ],
   "source": [
    "zap_df['Rating'].describe().transpose()"
   ]
  },
  {
   "cell_type": "markdown",
   "metadata": {},
   "source": [
    "# No of users providing minimum rating\n"
   ]
  },
  {
   "cell_type": "code",
   "execution_count": 28,
   "metadata": {},
   "outputs": [
    {
     "name": "stdout",
     "output_type": "stream",
     "text": [
      "User who provided minimum number of rating\n"
     ]
    },
    {
     "data": {
      "text/plain": [
       "57452"
      ]
     },
     "execution_count": 28,
     "metadata": {},
     "output_type": "execute_result"
    }
   ],
   "source": [
    "print('User who provided minimum number of rating')\n",
    "zap_df['UserId'][zap_df.Rating == zap_df['Rating'].min()].count()"
   ]
  },
  {
   "cell_type": "markdown",
   "metadata": {},
   "source": [
    "# No of users providing maximum rating\n"
   ]
  },
  {
   "cell_type": "code",
   "execution_count": 30,
   "metadata": {},
   "outputs": [
    {
     "name": "stdout",
     "output_type": "stream",
     "text": [
      "User who provided maximum number of rating\n"
     ]
    },
    {
     "data": {
      "text/plain": [
       "277826"
      ]
     },
     "execution_count": 30,
     "metadata": {},
     "output_type": "execute_result"
    }
   ],
   "source": [
    "print('User who provided maximum number of rating')\n",
    "zap_df['UserId'][zap_df.Rating == zap_df['Rating'].max()].count()"
   ]
  },
  {
   "cell_type": "markdown",
   "metadata": {},
   "source": [
    "# Showcasing Ratings Frequency"
   ]
  },
  {
   "cell_type": "code",
   "execution_count": 31,
   "metadata": {},
   "outputs": [
    {
     "data": {
      "text/plain": [
       "[Text(0, 0.5, 'Count'), Text(0.5, 0, 'Rating')]"
      ]
     },
     "execution_count": 31,
     "metadata": {},
     "output_type": "execute_result"
    },
    {
     "data": {
      "image/png": "[encoded data removed]",
      "text/plain": [
       "<Figure size 842.4x595.44 with 1 Axes>"
      ]
     },
     "metadata": {},
     "output_type": "display_data"
    }
   ],
   "source": [
    "sns.set(rc={'figure.figsize': (11.7, 8.27)})\n",
    "sns.set_style('whitegrid')\n",
    "ax = sns.countplot(x='Rating', data=zap_df, palette=sns.color_palette(\"magma\"))\n",
    "ax.set(xlabel='Rating', ylabel='Count')\n",
    "plt.show()"
   ]
  },
  {
   "cell_type": "markdown",
   "metadata": {},
   "source": [
    "Seems like majority of the ratings range from the scale of 4 to 5 and most of them being in the 5.0 area. "
   ]
  },
  {
   "cell_type": "markdown",
   "metadata": {},
   "source": [
    "# Taking the subset of the dataset"
   ]
  },
  {
   "cell_type": "code",
   "execution_count": 32,
   "metadata": {},
   "outputs": [],
   "source": [
    "top=zap_df['UserId'].value_counts()"
   ]
  },
  {
   "cell_type": "code",
   "execution_count": 38,
   "metadata": {},
   "outputs": [],
   "source": [
    "top50 = top[top>=20]"
   ]
  },
  {
   "cell_type": "code",
   "execution_count": 39,
   "metadata": {},
   "outputs": [],
   "source": [
    "DFZ= zap_df[zap_df.UserId.isin(top50.index)]"
   ]
  },
  {
   "cell_type": "code",
   "execution_count": 40,
   "metadata": {},
   "outputs": [
    {
     "data": {
      "text/html": [
       "<div>\n",
       "<style scoped>\n",
       "    .dataframe tbody tr th:only-of-type {\n",
       "        vertical-align: middle;\n",
       "    }\n",
       "\n",
       "    .dataframe tbody tr th {\n",
       "        vertical-align: top;\n",
       "    }\n",
       "\n",
       "    .dataframe thead th {\n",
       "        text-align: right;\n",
       "    }\n",
       "</style>\n",
       "<table border=\"1\" class=\"dataframe\">\n",
       "  <thead>\n",
       "    <tr style=\"text-align: right;\">\n",
       "      <th></th>\n",
       "      <th>UserId</th>\n",
       "      <th>ProductId</th>\n",
       "      <th>Rating</th>\n",
       "    </tr>\n",
       "  </thead>\n",
       "  <tbody>\n",
       "    <tr>\n",
       "      <td>983</td>\n",
       "      <td>A680RUE1FDO8B</td>\n",
       "      <td>B004URTJ6U</td>\n",
       "      <td>4.0</td>\n",
       "    </tr>\n",
       "    <tr>\n",
       "      <td>2726</td>\n",
       "      <td>A6FIAB28IS79</td>\n",
       "      <td>B004J3ZV62</td>\n",
       "      <td>5.0</td>\n",
       "    </tr>\n",
       "    <tr>\n",
       "      <td>2740</td>\n",
       "      <td>A6FIAB28IS79</td>\n",
       "      <td>B0012UKOV2</td>\n",
       "      <td>5.0</td>\n",
       "    </tr>\n",
       "    <tr>\n",
       "      <td>4741</td>\n",
       "      <td>A2WLNSZ9U0T1S3</td>\n",
       "      <td>B006SVV6HG</td>\n",
       "      <td>3.0</td>\n",
       "    </tr>\n",
       "    <tr>\n",
       "      <td>5932</td>\n",
       "      <td>A5JLAU2ARJ0BO</td>\n",
       "      <td>B004RO9L50</td>\n",
       "      <td>2.0</td>\n",
       "    </tr>\n",
       "  </tbody>\n",
       "</table>\n",
       "</div>"
      ],
      "text/plain": [
       "              UserId   ProductId  Rating\n",
       "983    A680RUE1FDO8B  B004URTJ6U     4.0\n",
       "2726    A6FIAB28IS79  B004J3ZV62     5.0\n",
       "2740    A6FIAB28IS79  B0012UKOV2     5.0\n",
       "4741  A2WLNSZ9U0T1S3  B006SVV6HG     3.0\n",
       "5932   A5JLAU2ARJ0BO  B004RO9L50     2.0"
      ]
     },
     "execution_count": 40,
     "metadata": {},
     "output_type": "execute_result"
    }
   ],
   "source": [
    "DFZ.head()"
   ]
  },
  {
   "cell_type": "code",
   "execution_count": 41,
   "metadata": {},
   "outputs": [
    {
     "name": "stdout",
     "output_type": "stream",
     "text": [
      "<class 'pandas.core.frame.DataFrame'>\n",
      "Int64Index: 330 entries, 983 to 499182\n",
      "Data columns (total 3 columns):\n",
      "UserId       330 non-null object\n",
      "ProductId    330 non-null object\n",
      "Rating       330 non-null float64\n",
      "dtypes: float64(1), object(2)\n",
      "memory usage: 10.3+ KB\n"
     ]
    }
   ],
   "source": [
    "DFZ.info()"
   ]
  },
  {
   "cell_type": "markdown",
   "metadata": {},
   "source": [
    "# Calculating the density of the Rating Matrix\n"
   ]
  },
  {
   "cell_type": "code",
   "execution_count": 43,
   "metadata": {},
   "outputs": [
    {
     "name": "stdout",
     "output_type": "stream",
     "text": [
      "Shape of final_ratings_matrix:  (13, 326)\n",
      "given_num_of_ratings =  330\n",
      "possible_num_of_ratings =  4238\n",
      "density: 7.79%\n"
     ]
    }
   ],
   "source": [
    "\n",
    "rating_matrix = DFZ.pivot(index='UserId',columns = 'ProductId',values='Rating').fillna(0)\n",
    "print('Shape of final_ratings_matrix: ', rating_matrix.shape)\n",
    "given_num_of_ratings = np.count_nonzero(rating_matrix)\n",
    "print('given_num_of_ratings = ', given_num_of_ratings)\n",
    "possible_num_of_ratings = rating_matrix.shape[0] * rating_matrix.shape[1]\n",
    "print('possible_num_of_ratings = ', possible_num_of_ratings)\n",
    "density = (given_num_of_ratings/possible_num_of_ratings)\n",
    "density *= 100\n",
    "print ('density: {:4.2f}%'.format(density))"
   ]
  },
  {
   "cell_type": "code",
   "execution_count": 44,
   "metadata": {},
   "outputs": [
    {
     "data": {
      "text/html": [
       "<div>\n",
       "<style scoped>\n",
       "    .dataframe tbody tr th:only-of-type {\n",
       "        vertical-align: middle;\n",
       "    }\n",
       "\n",
       "    .dataframe tbody tr th {\n",
       "        vertical-align: top;\n",
       "    }\n",
       "\n",
       "    .dataframe thead th {\n",
       "        text-align: right;\n",
       "    }\n",
       "</style>\n",
       "<table border=\"1\" class=\"dataframe\">\n",
       "  <thead>\n",
       "    <tr style=\"text-align: right;\">\n",
       "      <th>ProductId</th>\n",
       "      <th>B00000J1US</th>\n",
       "      <th>B00004R8VC</th>\n",
       "      <th>B00004S9AK</th>\n",
       "      <th>B00004SA30</th>\n",
       "      <th>B00004SD9Q</th>\n",
       "      <th>B00004SSRC</th>\n",
       "      <th>B00004VVGH</th>\n",
       "      <th>B00004Z4ZB</th>\n",
       "      <th>B00004Z6OK</th>\n",
       "      <th>B00005AC8J</th>\n",
       "      <th>...</th>\n",
       "      <th>B00HJ4GX10</th>\n",
       "      <th>B00I0Z427E</th>\n",
       "      <th>B00I9V8D92</th>\n",
       "      <th>B00IT2N9VS</th>\n",
       "      <th>B00ITI04YM</th>\n",
       "      <th>B00JA4VO9S</th>\n",
       "      <th>B00JGGUBPI</th>\n",
       "      <th>B00K6B7KJM</th>\n",
       "      <th>B00KMRGB7C</th>\n",
       "      <th>B00KYMCJF8</th>\n",
       "    </tr>\n",
       "    <tr>\n",
       "      <th>UserId</th>\n",
       "      <th></th>\n",
       "      <th></th>\n",
       "      <th></th>\n",
       "      <th></th>\n",
       "      <th></th>\n",
       "      <th></th>\n",
       "      <th></th>\n",
       "      <th></th>\n",
       "      <th></th>\n",
       "      <th></th>\n",
       "      <th></th>\n",
       "      <th></th>\n",
       "      <th></th>\n",
       "      <th></th>\n",
       "      <th></th>\n",
       "      <th></th>\n",
       "      <th></th>\n",
       "      <th></th>\n",
       "      <th></th>\n",
       "      <th></th>\n",
       "      <th></th>\n",
       "    </tr>\n",
       "  </thead>\n",
       "  <tbody>\n",
       "    <tr>\n",
       "      <td>A1F9Z42CFF9IAY</td>\n",
       "      <td>0.0</td>\n",
       "      <td>0.0</td>\n",
       "      <td>0.0</td>\n",
       "      <td>0.0</td>\n",
       "      <td>0.0</td>\n",
       "      <td>0.0</td>\n",
       "      <td>0.0</td>\n",
       "      <td>0.0</td>\n",
       "      <td>0.0</td>\n",
       "      <td>0.0</td>\n",
       "      <td>...</td>\n",
       "      <td>0.0</td>\n",
       "      <td>0.0</td>\n",
       "      <td>0.0</td>\n",
       "      <td>0.0</td>\n",
       "      <td>0.0</td>\n",
       "      <td>0.0</td>\n",
       "      <td>0.0</td>\n",
       "      <td>0.0</td>\n",
       "      <td>0.0</td>\n",
       "      <td>0.0</td>\n",
       "    </tr>\n",
       "    <tr>\n",
       "      <td>A1ODOGXEYECQQ8</td>\n",
       "      <td>0.0</td>\n",
       "      <td>0.0</td>\n",
       "      <td>0.0</td>\n",
       "      <td>0.0</td>\n",
       "      <td>0.0</td>\n",
       "      <td>0.0</td>\n",
       "      <td>0.0</td>\n",
       "      <td>0.0</td>\n",
       "      <td>0.0</td>\n",
       "      <td>0.0</td>\n",
       "      <td>...</td>\n",
       "      <td>0.0</td>\n",
       "      <td>0.0</td>\n",
       "      <td>0.0</td>\n",
       "      <td>0.0</td>\n",
       "      <td>0.0</td>\n",
       "      <td>0.0</td>\n",
       "      <td>4.0</td>\n",
       "      <td>0.0</td>\n",
       "      <td>0.0</td>\n",
       "      <td>0.0</td>\n",
       "    </tr>\n",
       "    <tr>\n",
       "      <td>A231WM2Z2JL0U3</td>\n",
       "      <td>5.0</td>\n",
       "      <td>5.0</td>\n",
       "      <td>5.0</td>\n",
       "      <td>5.0</td>\n",
       "      <td>5.0</td>\n",
       "      <td>5.0</td>\n",
       "      <td>0.0</td>\n",
       "      <td>3.0</td>\n",
       "      <td>3.0</td>\n",
       "      <td>5.0</td>\n",
       "      <td>...</td>\n",
       "      <td>0.0</td>\n",
       "      <td>0.0</td>\n",
       "      <td>0.0</td>\n",
       "      <td>0.0</td>\n",
       "      <td>0.0</td>\n",
       "      <td>0.0</td>\n",
       "      <td>0.0</td>\n",
       "      <td>0.0</td>\n",
       "      <td>0.0</td>\n",
       "      <td>0.0</td>\n",
       "    </tr>\n",
       "    <tr>\n",
       "      <td>A2AY4YUOX2N1BQ</td>\n",
       "      <td>0.0</td>\n",
       "      <td>0.0</td>\n",
       "      <td>0.0</td>\n",
       "      <td>0.0</td>\n",
       "      <td>0.0</td>\n",
       "      <td>0.0</td>\n",
       "      <td>0.0</td>\n",
       "      <td>0.0</td>\n",
       "      <td>0.0</td>\n",
       "      <td>0.0</td>\n",
       "      <td>...</td>\n",
       "      <td>0.0</td>\n",
       "      <td>0.0</td>\n",
       "      <td>0.0</td>\n",
       "      <td>0.0</td>\n",
       "      <td>0.0</td>\n",
       "      <td>0.0</td>\n",
       "      <td>0.0</td>\n",
       "      <td>0.0</td>\n",
       "      <td>0.0</td>\n",
       "      <td>0.0</td>\n",
       "    </tr>\n",
       "    <tr>\n",
       "      <td>A2NOW4U7W3F7RI</td>\n",
       "      <td>0.0</td>\n",
       "      <td>0.0</td>\n",
       "      <td>0.0</td>\n",
       "      <td>0.0</td>\n",
       "      <td>0.0</td>\n",
       "      <td>0.0</td>\n",
       "      <td>0.0</td>\n",
       "      <td>0.0</td>\n",
       "      <td>0.0</td>\n",
       "      <td>0.0</td>\n",
       "      <td>...</td>\n",
       "      <td>0.0</td>\n",
       "      <td>5.0</td>\n",
       "      <td>5.0</td>\n",
       "      <td>0.0</td>\n",
       "      <td>0.0</td>\n",
       "      <td>5.0</td>\n",
       "      <td>0.0</td>\n",
       "      <td>5.0</td>\n",
       "      <td>5.0</td>\n",
       "      <td>5.0</td>\n",
       "    </tr>\n",
       "  </tbody>\n",
       "</table>\n",
       "<p>5 rows × 326 columns</p>\n",
       "</div>"
      ],
      "text/plain": [
       "ProductId       B00000J1US  B00004R8VC  B00004S9AK  B00004SA30  B00004SD9Q  \\\n",
       "UserId                                                                       \n",
       "A1F9Z42CFF9IAY         0.0         0.0         0.0         0.0         0.0   \n",
       "A1ODOGXEYECQQ8         0.0         0.0         0.0         0.0         0.0   \n",
       "A231WM2Z2JL0U3         5.0         5.0         5.0         5.0         5.0   \n",
       "A2AY4YUOX2N1BQ         0.0         0.0         0.0         0.0         0.0   \n",
       "A2NOW4U7W3F7RI         0.0         0.0         0.0         0.0         0.0   \n",
       "\n",
       "ProductId       B00004SSRC  B00004VVGH  B00004Z4ZB  B00004Z6OK  B00005AC8J  \\\n",
       "UserId                                                                       \n",
       "A1F9Z42CFF9IAY         0.0         0.0         0.0         0.0         0.0   \n",
       "A1ODOGXEYECQQ8         0.0         0.0         0.0         0.0         0.0   \n",
       "A231WM2Z2JL0U3         5.0         0.0         3.0         3.0         5.0   \n",
       "A2AY4YUOX2N1BQ         0.0         0.0         0.0         0.0         0.0   \n",
       "A2NOW4U7W3F7RI         0.0         0.0         0.0         0.0         0.0   \n",
       "\n",
       "ProductId       ...  B00HJ4GX10  B00I0Z427E  B00I9V8D92  B00IT2N9VS  \\\n",
       "UserId          ...                                                   \n",
       "A1F9Z42CFF9IAY  ...         0.0         0.0         0.0         0.0   \n",
       "A1ODOGXEYECQQ8  ...         0.0         0.0         0.0         0.0   \n",
       "A231WM2Z2JL0U3  ...         0.0         0.0         0.0         0.0   \n",
       "A2AY4YUOX2N1BQ  ...         0.0         0.0         0.0         0.0   \n",
       "A2NOW4U7W3F7RI  ...         0.0         5.0         5.0         0.0   \n",
       "\n",
       "ProductId       B00ITI04YM  B00JA4VO9S  B00JGGUBPI  B00K6B7KJM  B00KMRGB7C  \\\n",
       "UserId                                                                       \n",
       "A1F9Z42CFF9IAY         0.0         0.0         0.0         0.0         0.0   \n",
       "A1ODOGXEYECQQ8         0.0         0.0         4.0         0.0         0.0   \n",
       "A231WM2Z2JL0U3         0.0         0.0         0.0         0.0         0.0   \n",
       "A2AY4YUOX2N1BQ         0.0         0.0         0.0         0.0         0.0   \n",
       "A2NOW4U7W3F7RI         0.0         5.0         0.0         5.0         5.0   \n",
       "\n",
       "ProductId       B00KYMCJF8  \n",
       "UserId                      \n",
       "A1F9Z42CFF9IAY         0.0  \n",
       "A1ODOGXEYECQQ8         0.0  \n",
       "A231WM2Z2JL0U3         0.0  \n",
       "A2AY4YUOX2N1BQ         0.0  \n",
       "A2NOW4U7W3F7RI         5.0  \n",
       "\n",
       "[5 rows x 326 columns]"
      ]
     },
     "execution_count": 44,
     "metadata": {},
     "output_type": "execute_result"
    }
   ],
   "source": [
    "rating_matrix.head()"
   ]
  },
  {
   "cell_type": "code",
   "execution_count": 45,
   "metadata": {},
   "outputs": [
    {
     "data": {
      "text/html": [
       "<div>\n",
       "<style scoped>\n",
       "    .dataframe tbody tr th:only-of-type {\n",
       "        vertical-align: middle;\n",
       "    }\n",
       "\n",
       "    .dataframe tbody tr th {\n",
       "        vertical-align: top;\n",
       "    }\n",
       "\n",
       "    .dataframe thead th {\n",
       "        text-align: right;\n",
       "    }\n",
       "</style>\n",
       "<table border=\"1\" class=\"dataframe\">\n",
       "  <thead>\n",
       "    <tr style=\"text-align: right;\">\n",
       "      <th>UserId</th>\n",
       "      <th>A1F9Z42CFF9IAY</th>\n",
       "      <th>A1ODOGXEYECQQ8</th>\n",
       "      <th>A231WM2Z2JL0U3</th>\n",
       "      <th>A2AY4YUOX2N1BQ</th>\n",
       "      <th>A2NOW4U7W3F7RI</th>\n",
       "      <th>A2WLNSZ9U0T1S3</th>\n",
       "      <th>A3LGT6UZL99IW1</th>\n",
       "      <th>A3OXHLG6DIBRW8</th>\n",
       "      <th>A4WEZJOIZIV4U</th>\n",
       "      <th>A5JLAU2ARJ0BO</th>\n",
       "      <th>A680RUE1FDO8B</th>\n",
       "      <th>A6FIAB28IS79</th>\n",
       "      <th>ADLVFFE4VBT8</th>\n",
       "    </tr>\n",
       "    <tr>\n",
       "      <th>ProductId</th>\n",
       "      <th></th>\n",
       "      <th></th>\n",
       "      <th></th>\n",
       "      <th></th>\n",
       "      <th></th>\n",
       "      <th></th>\n",
       "      <th></th>\n",
       "      <th></th>\n",
       "      <th></th>\n",
       "      <th></th>\n",
       "      <th></th>\n",
       "      <th></th>\n",
       "      <th></th>\n",
       "    </tr>\n",
       "  </thead>\n",
       "  <tbody>\n",
       "    <tr>\n",
       "      <td>B00000J1US</td>\n",
       "      <td>0.0</td>\n",
       "      <td>0.0</td>\n",
       "      <td>5.0</td>\n",
       "      <td>0.0</td>\n",
       "      <td>0.0</td>\n",
       "      <td>0.0</td>\n",
       "      <td>0.0</td>\n",
       "      <td>0.0</td>\n",
       "      <td>0.0</td>\n",
       "      <td>0.0</td>\n",
       "      <td>0.0</td>\n",
       "      <td>0.0</td>\n",
       "      <td>0.0</td>\n",
       "    </tr>\n",
       "    <tr>\n",
       "      <td>B00004R8VC</td>\n",
       "      <td>0.0</td>\n",
       "      <td>0.0</td>\n",
       "      <td>5.0</td>\n",
       "      <td>0.0</td>\n",
       "      <td>0.0</td>\n",
       "      <td>0.0</td>\n",
       "      <td>0.0</td>\n",
       "      <td>0.0</td>\n",
       "      <td>0.0</td>\n",
       "      <td>0.0</td>\n",
       "      <td>0.0</td>\n",
       "      <td>0.0</td>\n",
       "      <td>0.0</td>\n",
       "    </tr>\n",
       "    <tr>\n",
       "      <td>B00004S9AK</td>\n",
       "      <td>0.0</td>\n",
       "      <td>0.0</td>\n",
       "      <td>5.0</td>\n",
       "      <td>0.0</td>\n",
       "      <td>0.0</td>\n",
       "      <td>0.0</td>\n",
       "      <td>0.0</td>\n",
       "      <td>0.0</td>\n",
       "      <td>0.0</td>\n",
       "      <td>0.0</td>\n",
       "      <td>0.0</td>\n",
       "      <td>0.0</td>\n",
       "      <td>0.0</td>\n",
       "    </tr>\n",
       "    <tr>\n",
       "      <td>B00004SA30</td>\n",
       "      <td>0.0</td>\n",
       "      <td>0.0</td>\n",
       "      <td>5.0</td>\n",
       "      <td>0.0</td>\n",
       "      <td>0.0</td>\n",
       "      <td>0.0</td>\n",
       "      <td>0.0</td>\n",
       "      <td>0.0</td>\n",
       "      <td>0.0</td>\n",
       "      <td>0.0</td>\n",
       "      <td>0.0</td>\n",
       "      <td>0.0</td>\n",
       "      <td>0.0</td>\n",
       "    </tr>\n",
       "    <tr>\n",
       "      <td>B00004SD9Q</td>\n",
       "      <td>0.0</td>\n",
       "      <td>0.0</td>\n",
       "      <td>5.0</td>\n",
       "      <td>0.0</td>\n",
       "      <td>0.0</td>\n",
       "      <td>0.0</td>\n",
       "      <td>0.0</td>\n",
       "      <td>0.0</td>\n",
       "      <td>0.0</td>\n",
       "      <td>0.0</td>\n",
       "      <td>0.0</td>\n",
       "      <td>0.0</td>\n",
       "      <td>0.0</td>\n",
       "    </tr>\n",
       "  </tbody>\n",
       "</table>\n",
       "</div>"
      ],
      "text/plain": [
       "UserId      A1F9Z42CFF9IAY  A1ODOGXEYECQQ8  A231WM2Z2JL0U3  A2AY4YUOX2N1BQ  \\\n",
       "ProductId                                                                    \n",
       "B00000J1US             0.0             0.0             5.0             0.0   \n",
       "B00004R8VC             0.0             0.0             5.0             0.0   \n",
       "B00004S9AK             0.0             0.0             5.0             0.0   \n",
       "B00004SA30             0.0             0.0             5.0             0.0   \n",
       "B00004SD9Q             0.0             0.0             5.0             0.0   \n",
       "\n",
       "UserId      A2NOW4U7W3F7RI  A2WLNSZ9U0T1S3  A3LGT6UZL99IW1  A3OXHLG6DIBRW8  \\\n",
       "ProductId                                                                    \n",
       "B00000J1US             0.0             0.0             0.0             0.0   \n",
       "B00004R8VC             0.0             0.0             0.0             0.0   \n",
       "B00004S9AK             0.0             0.0             0.0             0.0   \n",
       "B00004SA30             0.0             0.0             0.0             0.0   \n",
       "B00004SD9Q             0.0             0.0             0.0             0.0   \n",
       "\n",
       "UserId      A4WEZJOIZIV4U  A5JLAU2ARJ0BO  A680RUE1FDO8B  A6FIAB28IS79  \\\n",
       "ProductId                                                               \n",
       "B00000J1US            0.0            0.0            0.0           0.0   \n",
       "B00004R8VC            0.0            0.0            0.0           0.0   \n",
       "B00004S9AK            0.0            0.0            0.0           0.0   \n",
       "B00004SA30            0.0            0.0            0.0           0.0   \n",
       "B00004SD9Q            0.0            0.0            0.0           0.0   \n",
       "\n",
       "UserId      ADLVFFE4VBT8  \n",
       "ProductId                 \n",
       "B00000J1US           0.0  \n",
       "B00004R8VC           0.0  \n",
       "B00004S9AK           0.0  \n",
       "B00004SA30           0.0  \n",
       "B00004SD9Q           0.0  "
      ]
     },
     "execution_count": 45,
     "metadata": {},
     "output_type": "execute_result"
    }
   ],
   "source": [
    "rating_matrix.transpose().head()"
   ]
  },
  {
   "cell_type": "markdown",
   "metadata": {},
   "source": [
    "Now as we can see our memory usage has gone down from 11.4 MB to 1.1 MB "
   ]
  },
  {
   "cell_type": "markdown",
   "metadata": {},
   "source": [
    "# Train-Test Split"
   ]
  },
  {
   "cell_type": "code",
   "execution_count": 46,
   "metadata": {},
   "outputs": [],
   "source": [
    "train_data, test_data = train_test_split(DFZ, test_size = 0.3, random_state=0)"
   ]
  },
  {
   "cell_type": "code",
   "execution_count": 47,
   "metadata": {},
   "outputs": [
    {
     "data": {
      "text/html": [
       "<div>\n",
       "<style scoped>\n",
       "    .dataframe tbody tr th:only-of-type {\n",
       "        vertical-align: middle;\n",
       "    }\n",
       "\n",
       "    .dataframe tbody tr th {\n",
       "        vertical-align: top;\n",
       "    }\n",
       "\n",
       "    .dataframe thead th {\n",
       "        text-align: right;\n",
       "    }\n",
       "</style>\n",
       "<table border=\"1\" class=\"dataframe\">\n",
       "  <thead>\n",
       "    <tr style=\"text-align: right;\">\n",
       "      <th></th>\n",
       "      <th>UserId</th>\n",
       "      <th>ProductId</th>\n",
       "      <th>Rating</th>\n",
       "    </tr>\n",
       "  </thead>\n",
       "  <tbody>\n",
       "    <tr>\n",
       "      <td>349305</td>\n",
       "      <td>A3OXHLG6DIBRW8</td>\n",
       "      <td>B000V4TMWC</td>\n",
       "      <td>4.0</td>\n",
       "    </tr>\n",
       "    <tr>\n",
       "      <td>29945</td>\n",
       "      <td>A5JLAU2ARJ0BO</td>\n",
       "      <td>B0000APSKB</td>\n",
       "      <td>5.0</td>\n",
       "    </tr>\n",
       "    <tr>\n",
       "      <td>490635</td>\n",
       "      <td>A2AY4YUOX2N1BQ</td>\n",
       "      <td>B00212O4IE</td>\n",
       "      <td>4.0</td>\n",
       "    </tr>\n",
       "    <tr>\n",
       "      <td>22751</td>\n",
       "      <td>A3OXHLG6DIBRW8</td>\n",
       "      <td>B002EPF6YO</td>\n",
       "      <td>4.0</td>\n",
       "    </tr>\n",
       "    <tr>\n",
       "      <td>47375</td>\n",
       "      <td>A2NOW4U7W3F7RI</td>\n",
       "      <td>B001SJVU6K</td>\n",
       "      <td>1.0</td>\n",
       "    </tr>\n",
       "  </tbody>\n",
       "</table>\n",
       "</div>"
      ],
      "text/plain": [
       "                UserId   ProductId  Rating\n",
       "349305  A3OXHLG6DIBRW8  B000V4TMWC     4.0\n",
       "29945    A5JLAU2ARJ0BO  B0000APSKB     5.0\n",
       "490635  A2AY4YUOX2N1BQ  B00212O4IE     4.0\n",
       "22751   A3OXHLG6DIBRW8  B002EPF6YO     4.0\n",
       "47375   A2NOW4U7W3F7RI  B001SJVU6K     1.0"
      ]
     },
     "execution_count": 47,
     "metadata": {},
     "output_type": "execute_result"
    }
   ],
   "source": [
    "train_data.head()"
   ]
  },
  {
   "cell_type": "code",
   "execution_count": 48,
   "metadata": {},
   "outputs": [
    {
     "name": "stdout",
     "output_type": "stream",
     "text": [
      "(231, 3)\n",
      "(99, 3)\n"
     ]
    }
   ],
   "source": [
    "print(train_data.shape)\n",
    "print(test_data.shape)"
   ]
  },
  {
   "cell_type": "markdown",
   "metadata": {},
   "source": [
    "# Popularity Based Recommendation System"
   ]
  },
  {
   "cell_type": "code",
   "execution_count": 49,
   "metadata": {},
   "outputs": [
    {
     "data": {
      "text/html": [
       "<div>\n",
       "<style scoped>\n",
       "    .dataframe tbody tr th:only-of-type {\n",
       "        vertical-align: middle;\n",
       "    }\n",
       "\n",
       "    .dataframe tbody tr th {\n",
       "        vertical-align: top;\n",
       "    }\n",
       "\n",
       "    .dataframe thead th {\n",
       "        text-align: right;\n",
       "    }\n",
       "</style>\n",
       "<table border=\"1\" class=\"dataframe\">\n",
       "  <thead>\n",
       "    <tr style=\"text-align: right;\">\n",
       "      <th></th>\n",
       "      <th>UserId</th>\n",
       "      <th>ProductId</th>\n",
       "      <th>Rating</th>\n",
       "    </tr>\n",
       "  </thead>\n",
       "  <tbody>\n",
       "    <tr>\n",
       "      <td>349305</td>\n",
       "      <td>A3OXHLG6DIBRW8</td>\n",
       "      <td>B000V4TMWC</td>\n",
       "      <td>4.0</td>\n",
       "    </tr>\n",
       "    <tr>\n",
       "      <td>29945</td>\n",
       "      <td>A5JLAU2ARJ0BO</td>\n",
       "      <td>B0000APSKB</td>\n",
       "      <td>5.0</td>\n",
       "    </tr>\n",
       "    <tr>\n",
       "      <td>490635</td>\n",
       "      <td>A2AY4YUOX2N1BQ</td>\n",
       "      <td>B00212O4IE</td>\n",
       "      <td>4.0</td>\n",
       "    </tr>\n",
       "    <tr>\n",
       "      <td>22751</td>\n",
       "      <td>A3OXHLG6DIBRW8</td>\n",
       "      <td>B002EPF6YO</td>\n",
       "      <td>4.0</td>\n",
       "    </tr>\n",
       "    <tr>\n",
       "      <td>47375</td>\n",
       "      <td>A2NOW4U7W3F7RI</td>\n",
       "      <td>B001SJVU6K</td>\n",
       "      <td>1.0</td>\n",
       "    </tr>\n",
       "  </tbody>\n",
       "</table>\n",
       "</div>"
      ],
      "text/plain": [
       "                UserId   ProductId  Rating\n",
       "349305  A3OXHLG6DIBRW8  B000V4TMWC     4.0\n",
       "29945    A5JLAU2ARJ0BO  B0000APSKB     5.0\n",
       "490635  A2AY4YUOX2N1BQ  B00212O4IE     4.0\n",
       "22751   A3OXHLG6DIBRW8  B002EPF6YO     4.0\n",
       "47375   A2NOW4U7W3F7RI  B001SJVU6K     1.0"
      ]
     },
     "execution_count": 49,
     "metadata": {},
     "output_type": "execute_result"
    }
   ],
   "source": [
    "train_data.head()"
   ]
  },
  {
   "cell_type": "code",
   "execution_count": 52,
   "metadata": {},
   "outputs": [],
   "source": [
    "train_data_grouped = train_data.groupby('ProductId').agg({'UserId':'count'}).reset_index()\n",
    "train_data_grouped.rename(columns={'UserId':'Score'},inplace=True)"
   ]
  },
  {
   "cell_type": "code",
   "execution_count": 53,
   "metadata": {},
   "outputs": [
    {
     "data": {
      "text/html": [
       "<div>\n",
       "<style scoped>\n",
       "    .dataframe tbody tr th:only-of-type {\n",
       "        vertical-align: middle;\n",
       "    }\n",
       "\n",
       "    .dataframe tbody tr th {\n",
       "        vertical-align: top;\n",
       "    }\n",
       "\n",
       "    .dataframe thead th {\n",
       "        text-align: right;\n",
       "    }\n",
       "</style>\n",
       "<table border=\"1\" class=\"dataframe\">\n",
       "  <thead>\n",
       "    <tr style=\"text-align: right;\">\n",
       "      <th></th>\n",
       "      <th>ProductId</th>\n",
       "      <th>Score</th>\n",
       "    </tr>\n",
       "  </thead>\n",
       "  <tbody>\n",
       "    <tr>\n",
       "      <td>224</td>\n",
       "      <td>B00JA4VO9S</td>\n",
       "      <td>1</td>\n",
       "    </tr>\n",
       "    <tr>\n",
       "      <td>225</td>\n",
       "      <td>B00JGGUBPI</td>\n",
       "      <td>1</td>\n",
       "    </tr>\n",
       "    <tr>\n",
       "      <td>226</td>\n",
       "      <td>B00K6B7KJM</td>\n",
       "      <td>1</td>\n",
       "    </tr>\n",
       "    <tr>\n",
       "      <td>227</td>\n",
       "      <td>B00KMRGB7C</td>\n",
       "      <td>1</td>\n",
       "    </tr>\n",
       "    <tr>\n",
       "      <td>228</td>\n",
       "      <td>B00KYMCJF8</td>\n",
       "      <td>1</td>\n",
       "    </tr>\n",
       "  </tbody>\n",
       "</table>\n",
       "</div>"
      ],
      "text/plain": [
       "      ProductId  Score\n",
       "224  B00JA4VO9S      1\n",
       "225  B00JGGUBPI      1\n",
       "226  B00K6B7KJM      1\n",
       "227  B00KMRGB7C      1\n",
       "228  B00KYMCJF8      1"
      ]
     },
     "execution_count": 53,
     "metadata": {},
     "output_type": "execute_result"
    }
   ],
   "source": [
    "train_data_grouped.tail()"
   ]
  },
  {
   "cell_type": "code",
   "execution_count": 54,
   "metadata": {},
   "outputs": [],
   "source": [
    "train_data_sort = train_data_grouped.sort_values(['Score', 'ProductId'], ascending = [0,1])"
   ]
  },
  {
   "cell_type": "code",
   "execution_count": 56,
   "metadata": {},
   "outputs": [],
   "source": [
    "train_data_sort['Rank']= train_data_sort['Score'].rank(ascending=0, method='first')"
   ]
  },
  {
   "cell_type": "code",
   "execution_count": 57,
   "metadata": {},
   "outputs": [
    {
     "data": {
      "text/html": [
       "<div>\n",
       "<style scoped>\n",
       "    .dataframe tbody tr th:only-of-type {\n",
       "        vertical-align: middle;\n",
       "    }\n",
       "\n",
       "    .dataframe tbody tr th {\n",
       "        vertical-align: top;\n",
       "    }\n",
       "\n",
       "    .dataframe thead th {\n",
       "        text-align: right;\n",
       "    }\n",
       "</style>\n",
       "<table border=\"1\" class=\"dataframe\">\n",
       "  <thead>\n",
       "    <tr style=\"text-align: right;\">\n",
       "      <th></th>\n",
       "      <th>ProductId</th>\n",
       "      <th>Score</th>\n",
       "      <th>Rank</th>\n",
       "    </tr>\n",
       "  </thead>\n",
       "  <tbody>\n",
       "    <tr>\n",
       "      <td>204</td>\n",
       "      <td>B00CD8ADKO</td>\n",
       "      <td>2</td>\n",
       "      <td>1.0</td>\n",
       "    </tr>\n",
       "    <tr>\n",
       "      <td>219</td>\n",
       "      <td>B00HHRP11C</td>\n",
       "      <td>2</td>\n",
       "      <td>2.0</td>\n",
       "    </tr>\n",
       "    <tr>\n",
       "      <td>0</td>\n",
       "      <td>B00004R8VC</td>\n",
       "      <td>1</td>\n",
       "      <td>3.0</td>\n",
       "    </tr>\n",
       "    <tr>\n",
       "      <td>1</td>\n",
       "      <td>B00004S9AK</td>\n",
       "      <td>1</td>\n",
       "      <td>4.0</td>\n",
       "    </tr>\n",
       "    <tr>\n",
       "      <td>2</td>\n",
       "      <td>B00004SD9Q</td>\n",
       "      <td>1</td>\n",
       "      <td>5.0</td>\n",
       "    </tr>\n",
       "  </tbody>\n",
       "</table>\n",
       "</div>"
      ],
      "text/plain": [
       "      ProductId  Score  Rank\n",
       "204  B00CD8ADKO      2   1.0\n",
       "219  B00HHRP11C      2   2.0\n",
       "0    B00004R8VC      1   3.0\n",
       "1    B00004S9AK      1   4.0\n",
       "2    B00004SD9Q      1   5.0"
      ]
     },
     "execution_count": 57,
     "metadata": {},
     "output_type": "execute_result"
    }
   ],
   "source": [
    "popularity_recommendations = train_data_sort.head()\n",
    "popularity_recommendations"
   ]
  },
  {
   "cell_type": "code",
   "execution_count": 65,
   "metadata": {},
   "outputs": [],
   "source": [
    "def popularity_recommender(UserId):\n",
    "    user_recommendations = popularity_recommendations\n",
    "    user_recommendations['UserId'] = UserId\n",
    "\n",
    "    col = user_recommendations.columns.tolist()\n",
    "    col = col[-1:] + col[:-1]\n",
    "    user_recommendations = user_recommendations[col]\n",
    "    return user_recommendations"
   ]
  },
  {
   "cell_type": "code",
   "execution_count": 66,
   "metadata": {},
   "outputs": [
    {
     "name": "stdout",
     "output_type": "stream",
     "text": [
      "\n",
      "Movies Recommended for the user : 1 are \n",
      "     UserId   ProductId  Score  Rank\n",
      "204       1  B00CD8ADKO      2   1.0\n",
      "219       1  B00HHRP11C      2   2.0\n",
      "0         1  B00004R8VC      1   3.0\n",
      "1         1  B00004S9AK      1   4.0\n",
      "2         1  B00004SD9Q      1   5.0\n",
      "\n",
      "Movies Recommended for the user : 15 are \n",
      "     UserId   ProductId  Score  Rank\n",
      "204      15  B00CD8ADKO      2   1.0\n",
      "219      15  B00HHRP11C      2   2.0\n",
      "0        15  B00004R8VC      1   3.0\n",
      "1        15  B00004S9AK      1   4.0\n",
      "2        15  B00004SD9Q      1   5.0\n",
      "\n",
      "Movies Recommended for the user : 159 are \n",
      "     UserId   ProductId  Score  Rank\n",
      "204     159  B00CD8ADKO      2   1.0\n",
      "219     159  B00HHRP11C      2   2.0\n",
      "0       159  B00004R8VC      1   3.0\n",
      "1       159  B00004S9AK      1   4.0\n",
      "2       159  B00004SD9Q      1   5.0\n"
     ]
    }
   ],
   "source": [
    "user = [1, 15, 159]\n",
    "for i in user :\n",
    "    recomm = popularity_recommender(i)\n",
    "    print('\\nMovies Recommended for the user : {} are \\n{}'.format(i,recomm))"
   ]
  },
  {
   "cell_type": "markdown",
   "metadata": {},
   "source": [
    "\n",
    "\n",
    "The recommendations from Popularity based model for each user is the same five products. This is expected as the model does not consider personal preferences/details of the users.\n"
   ]
  },
  {
   "cell_type": "markdown",
   "metadata": {},
   "source": [
    "# Collaborative Filtering Model"
   ]
  },
  {
   "cell_type": "code",
   "execution_count": 67,
   "metadata": {},
   "outputs": [
    {
     "name": "stdout",
     "output_type": "stream",
     "text": [
      "shape for the Matrix :  (13, 326)\n"
     ]
    },
    {
     "data": {
      "text/html": [
       "<div>\n",
       "<style scoped>\n",
       "    .dataframe tbody tr th:only-of-type {\n",
       "        vertical-align: middle;\n",
       "    }\n",
       "\n",
       "    .dataframe tbody tr th {\n",
       "        vertical-align: top;\n",
       "    }\n",
       "\n",
       "    .dataframe thead th {\n",
       "        text-align: right;\n",
       "    }\n",
       "</style>\n",
       "<table border=\"1\" class=\"dataframe\">\n",
       "  <thead>\n",
       "    <tr style=\"text-align: right;\">\n",
       "      <th>ProductId</th>\n",
       "      <th>B00000J1US</th>\n",
       "      <th>B00004R8VC</th>\n",
       "      <th>B00004S9AK</th>\n",
       "      <th>B00004SA30</th>\n",
       "      <th>B00004SD9Q</th>\n",
       "      <th>B00004SSRC</th>\n",
       "      <th>B00004VVGH</th>\n",
       "      <th>B00004Z4ZB</th>\n",
       "      <th>B00004Z6OK</th>\n",
       "      <th>B00005AC8J</th>\n",
       "      <th>...</th>\n",
       "      <th>B00HJ4GX10</th>\n",
       "      <th>B00I0Z427E</th>\n",
       "      <th>B00I9V8D92</th>\n",
       "      <th>B00IT2N9VS</th>\n",
       "      <th>B00ITI04YM</th>\n",
       "      <th>B00JA4VO9S</th>\n",
       "      <th>B00JGGUBPI</th>\n",
       "      <th>B00K6B7KJM</th>\n",
       "      <th>B00KMRGB7C</th>\n",
       "      <th>B00KYMCJF8</th>\n",
       "    </tr>\n",
       "    <tr>\n",
       "      <th>UserId</th>\n",
       "      <th></th>\n",
       "      <th></th>\n",
       "      <th></th>\n",
       "      <th></th>\n",
       "      <th></th>\n",
       "      <th></th>\n",
       "      <th></th>\n",
       "      <th></th>\n",
       "      <th></th>\n",
       "      <th></th>\n",
       "      <th></th>\n",
       "      <th></th>\n",
       "      <th></th>\n",
       "      <th></th>\n",
       "      <th></th>\n",
       "      <th></th>\n",
       "      <th></th>\n",
       "      <th></th>\n",
       "      <th></th>\n",
       "      <th></th>\n",
       "      <th></th>\n",
       "    </tr>\n",
       "  </thead>\n",
       "  <tbody>\n",
       "    <tr>\n",
       "      <td>A1F9Z42CFF9IAY</td>\n",
       "      <td>0.0</td>\n",
       "      <td>0.0</td>\n",
       "      <td>0.0</td>\n",
       "      <td>0.0</td>\n",
       "      <td>0.0</td>\n",
       "      <td>0.0</td>\n",
       "      <td>0.0</td>\n",
       "      <td>0.0</td>\n",
       "      <td>0.0</td>\n",
       "      <td>0.0</td>\n",
       "      <td>...</td>\n",
       "      <td>0.0</td>\n",
       "      <td>0.0</td>\n",
       "      <td>0.0</td>\n",
       "      <td>0.0</td>\n",
       "      <td>0.0</td>\n",
       "      <td>0.0</td>\n",
       "      <td>0.0</td>\n",
       "      <td>0.0</td>\n",
       "      <td>0.0</td>\n",
       "      <td>0.0</td>\n",
       "    </tr>\n",
       "    <tr>\n",
       "      <td>A1ODOGXEYECQQ8</td>\n",
       "      <td>0.0</td>\n",
       "      <td>0.0</td>\n",
       "      <td>0.0</td>\n",
       "      <td>0.0</td>\n",
       "      <td>0.0</td>\n",
       "      <td>0.0</td>\n",
       "      <td>0.0</td>\n",
       "      <td>0.0</td>\n",
       "      <td>0.0</td>\n",
       "      <td>0.0</td>\n",
       "      <td>...</td>\n",
       "      <td>0.0</td>\n",
       "      <td>0.0</td>\n",
       "      <td>0.0</td>\n",
       "      <td>0.0</td>\n",
       "      <td>0.0</td>\n",
       "      <td>0.0</td>\n",
       "      <td>4.0</td>\n",
       "      <td>0.0</td>\n",
       "      <td>0.0</td>\n",
       "      <td>0.0</td>\n",
       "    </tr>\n",
       "    <tr>\n",
       "      <td>A231WM2Z2JL0U3</td>\n",
       "      <td>5.0</td>\n",
       "      <td>5.0</td>\n",
       "      <td>5.0</td>\n",
       "      <td>5.0</td>\n",
       "      <td>5.0</td>\n",
       "      <td>5.0</td>\n",
       "      <td>0.0</td>\n",
       "      <td>3.0</td>\n",
       "      <td>3.0</td>\n",
       "      <td>5.0</td>\n",
       "      <td>...</td>\n",
       "      <td>0.0</td>\n",
       "      <td>0.0</td>\n",
       "      <td>0.0</td>\n",
       "      <td>0.0</td>\n",
       "      <td>0.0</td>\n",
       "      <td>0.0</td>\n",
       "      <td>0.0</td>\n",
       "      <td>0.0</td>\n",
       "      <td>0.0</td>\n",
       "      <td>0.0</td>\n",
       "    </tr>\n",
       "    <tr>\n",
       "      <td>A2AY4YUOX2N1BQ</td>\n",
       "      <td>0.0</td>\n",
       "      <td>0.0</td>\n",
       "      <td>0.0</td>\n",
       "      <td>0.0</td>\n",
       "      <td>0.0</td>\n",
       "      <td>0.0</td>\n",
       "      <td>0.0</td>\n",
       "      <td>0.0</td>\n",
       "      <td>0.0</td>\n",
       "      <td>0.0</td>\n",
       "      <td>...</td>\n",
       "      <td>0.0</td>\n",
       "      <td>0.0</td>\n",
       "      <td>0.0</td>\n",
       "      <td>0.0</td>\n",
       "      <td>0.0</td>\n",
       "      <td>0.0</td>\n",
       "      <td>0.0</td>\n",
       "      <td>0.0</td>\n",
       "      <td>0.0</td>\n",
       "      <td>0.0</td>\n",
       "    </tr>\n",
       "    <tr>\n",
       "      <td>A2NOW4U7W3F7RI</td>\n",
       "      <td>0.0</td>\n",
       "      <td>0.0</td>\n",
       "      <td>0.0</td>\n",
       "      <td>0.0</td>\n",
       "      <td>0.0</td>\n",
       "      <td>0.0</td>\n",
       "      <td>0.0</td>\n",
       "      <td>0.0</td>\n",
       "      <td>0.0</td>\n",
       "      <td>0.0</td>\n",
       "      <td>...</td>\n",
       "      <td>0.0</td>\n",
       "      <td>5.0</td>\n",
       "      <td>5.0</td>\n",
       "      <td>0.0</td>\n",
       "      <td>0.0</td>\n",
       "      <td>5.0</td>\n",
       "      <td>0.0</td>\n",
       "      <td>5.0</td>\n",
       "      <td>5.0</td>\n",
       "      <td>5.0</td>\n",
       "    </tr>\n",
       "  </tbody>\n",
       "</table>\n",
       "<p>5 rows × 326 columns</p>\n",
       "</div>"
      ],
      "text/plain": [
       "ProductId       B00000J1US  B00004R8VC  B00004S9AK  B00004SA30  B00004SD9Q  \\\n",
       "UserId                                                                       \n",
       "A1F9Z42CFF9IAY         0.0         0.0         0.0         0.0         0.0   \n",
       "A1ODOGXEYECQQ8         0.0         0.0         0.0         0.0         0.0   \n",
       "A231WM2Z2JL0U3         5.0         5.0         5.0         5.0         5.0   \n",
       "A2AY4YUOX2N1BQ         0.0         0.0         0.0         0.0         0.0   \n",
       "A2NOW4U7W3F7RI         0.0         0.0         0.0         0.0         0.0   \n",
       "\n",
       "ProductId       B00004SSRC  B00004VVGH  B00004Z4ZB  B00004Z6OK  B00005AC8J  \\\n",
       "UserId                                                                       \n",
       "A1F9Z42CFF9IAY         0.0         0.0         0.0         0.0         0.0   \n",
       "A1ODOGXEYECQQ8         0.0         0.0         0.0         0.0         0.0   \n",
       "A231WM2Z2JL0U3         5.0         0.0         3.0         3.0         5.0   \n",
       "A2AY4YUOX2N1BQ         0.0         0.0         0.0         0.0         0.0   \n",
       "A2NOW4U7W3F7RI         0.0         0.0         0.0         0.0         0.0   \n",
       "\n",
       "ProductId       ...  B00HJ4GX10  B00I0Z427E  B00I9V8D92  B00IT2N9VS  \\\n",
       "UserId          ...                                                   \n",
       "A1F9Z42CFF9IAY  ...         0.0         0.0         0.0         0.0   \n",
       "A1ODOGXEYECQQ8  ...         0.0         0.0         0.0         0.0   \n",
       "A231WM2Z2JL0U3  ...         0.0         0.0         0.0         0.0   \n",
       "A2AY4YUOX2N1BQ  ...         0.0         0.0         0.0         0.0   \n",
       "A2NOW4U7W3F7RI  ...         0.0         5.0         5.0         0.0   \n",
       "\n",
       "ProductId       B00ITI04YM  B00JA4VO9S  B00JGGUBPI  B00K6B7KJM  B00KMRGB7C  \\\n",
       "UserId                                                                       \n",
       "A1F9Z42CFF9IAY         0.0         0.0         0.0         0.0         0.0   \n",
       "A1ODOGXEYECQQ8         0.0         0.0         4.0         0.0         0.0   \n",
       "A231WM2Z2JL0U3         0.0         0.0         0.0         0.0         0.0   \n",
       "A2AY4YUOX2N1BQ         0.0         0.0         0.0         0.0         0.0   \n",
       "A2NOW4U7W3F7RI         0.0         5.0         0.0         5.0         5.0   \n",
       "\n",
       "ProductId       B00KYMCJF8  \n",
       "UserId                      \n",
       "A1F9Z42CFF9IAY         0.0  \n",
       "A1ODOGXEYECQQ8         0.0  \n",
       "A231WM2Z2JL0U3         0.0  \n",
       "A2AY4YUOX2N1BQ         0.0  \n",
       "A2NOW4U7W3F7RI         5.0  \n",
       "\n",
       "[5 rows x 326 columns]"
      ]
     },
     "execution_count": 67,
     "metadata": {},
     "output_type": "execute_result"
    }
   ],
   "source": [
    "# User-based Collaborative Filtering\n",
    "# Matrix with row per 'user' and column per 'product' \n",
    "print('shape for the Matrix : ',rating_matrix.shape)\n",
    "rating_matrix.head()"
   ]
  },
  {
   "cell_type": "code",
   "execution_count": 68,
   "metadata": {},
   "outputs": [
    {
     "name": "stdout",
     "output_type": "stream",
     "text": [
      "shape for the Matrix :  (13, 327)\n"
     ]
    },
    {
     "data": {
      "text/html": [
       "<div>\n",
       "<style scoped>\n",
       "    .dataframe tbody tr th:only-of-type {\n",
       "        vertical-align: middle;\n",
       "    }\n",
       "\n",
       "    .dataframe tbody tr th {\n",
       "        vertical-align: top;\n",
       "    }\n",
       "\n",
       "    .dataframe thead th {\n",
       "        text-align: right;\n",
       "    }\n",
       "</style>\n",
       "<table border=\"1\" class=\"dataframe\">\n",
       "  <thead>\n",
       "    <tr style=\"text-align: right;\">\n",
       "      <th>ProductId</th>\n",
       "      <th>B00000J1US</th>\n",
       "      <th>B00004R8VC</th>\n",
       "      <th>B00004S9AK</th>\n",
       "      <th>B00004SA30</th>\n",
       "      <th>B00004SD9Q</th>\n",
       "      <th>B00004SSRC</th>\n",
       "      <th>B00004VVGH</th>\n",
       "      <th>B00004Z4ZB</th>\n",
       "      <th>B00004Z6OK</th>\n",
       "      <th>B00005AC8J</th>\n",
       "      <th>...</th>\n",
       "      <th>B00I0Z427E</th>\n",
       "      <th>B00I9V8D92</th>\n",
       "      <th>B00IT2N9VS</th>\n",
       "      <th>B00ITI04YM</th>\n",
       "      <th>B00JA4VO9S</th>\n",
       "      <th>B00JGGUBPI</th>\n",
       "      <th>B00K6B7KJM</th>\n",
       "      <th>B00KMRGB7C</th>\n",
       "      <th>B00KYMCJF8</th>\n",
       "      <th>user_index</th>\n",
       "    </tr>\n",
       "    <tr>\n",
       "      <th>UserId</th>\n",
       "      <th></th>\n",
       "      <th></th>\n",
       "      <th></th>\n",
       "      <th></th>\n",
       "      <th></th>\n",
       "      <th></th>\n",
       "      <th></th>\n",
       "      <th></th>\n",
       "      <th></th>\n",
       "      <th></th>\n",
       "      <th></th>\n",
       "      <th></th>\n",
       "      <th></th>\n",
       "      <th></th>\n",
       "      <th></th>\n",
       "      <th></th>\n",
       "      <th></th>\n",
       "      <th></th>\n",
       "      <th></th>\n",
       "      <th></th>\n",
       "      <th></th>\n",
       "    </tr>\n",
       "  </thead>\n",
       "  <tbody>\n",
       "    <tr>\n",
       "      <td>A1F9Z42CFF9IAY</td>\n",
       "      <td>0.0</td>\n",
       "      <td>0.0</td>\n",
       "      <td>0.0</td>\n",
       "      <td>0.0</td>\n",
       "      <td>0.0</td>\n",
       "      <td>0.0</td>\n",
       "      <td>0.0</td>\n",
       "      <td>0.0</td>\n",
       "      <td>0.0</td>\n",
       "      <td>0.0</td>\n",
       "      <td>...</td>\n",
       "      <td>0.0</td>\n",
       "      <td>0.0</td>\n",
       "      <td>0.0</td>\n",
       "      <td>0.0</td>\n",
       "      <td>0.0</td>\n",
       "      <td>0.0</td>\n",
       "      <td>0.0</td>\n",
       "      <td>0.0</td>\n",
       "      <td>0.0</td>\n",
       "      <td>0</td>\n",
       "    </tr>\n",
       "    <tr>\n",
       "      <td>A1ODOGXEYECQQ8</td>\n",
       "      <td>0.0</td>\n",
       "      <td>0.0</td>\n",
       "      <td>0.0</td>\n",
       "      <td>0.0</td>\n",
       "      <td>0.0</td>\n",
       "      <td>0.0</td>\n",
       "      <td>0.0</td>\n",
       "      <td>0.0</td>\n",
       "      <td>0.0</td>\n",
       "      <td>0.0</td>\n",
       "      <td>...</td>\n",
       "      <td>0.0</td>\n",
       "      <td>0.0</td>\n",
       "      <td>0.0</td>\n",
       "      <td>0.0</td>\n",
       "      <td>0.0</td>\n",
       "      <td>4.0</td>\n",
       "      <td>0.0</td>\n",
       "      <td>0.0</td>\n",
       "      <td>0.0</td>\n",
       "      <td>1</td>\n",
       "    </tr>\n",
       "    <tr>\n",
       "      <td>A231WM2Z2JL0U3</td>\n",
       "      <td>5.0</td>\n",
       "      <td>5.0</td>\n",
       "      <td>5.0</td>\n",
       "      <td>5.0</td>\n",
       "      <td>5.0</td>\n",
       "      <td>5.0</td>\n",
       "      <td>0.0</td>\n",
       "      <td>3.0</td>\n",
       "      <td>3.0</td>\n",
       "      <td>5.0</td>\n",
       "      <td>...</td>\n",
       "      <td>0.0</td>\n",
       "      <td>0.0</td>\n",
       "      <td>0.0</td>\n",
       "      <td>0.0</td>\n",
       "      <td>0.0</td>\n",
       "      <td>0.0</td>\n",
       "      <td>0.0</td>\n",
       "      <td>0.0</td>\n",
       "      <td>0.0</td>\n",
       "      <td>2</td>\n",
       "    </tr>\n",
       "    <tr>\n",
       "      <td>A2AY4YUOX2N1BQ</td>\n",
       "      <td>0.0</td>\n",
       "      <td>0.0</td>\n",
       "      <td>0.0</td>\n",
       "      <td>0.0</td>\n",
       "      <td>0.0</td>\n",
       "      <td>0.0</td>\n",
       "      <td>0.0</td>\n",
       "      <td>0.0</td>\n",
       "      <td>0.0</td>\n",
       "      <td>0.0</td>\n",
       "      <td>...</td>\n",
       "      <td>0.0</td>\n",
       "      <td>0.0</td>\n",
       "      <td>0.0</td>\n",
       "      <td>0.0</td>\n",
       "      <td>0.0</td>\n",
       "      <td>0.0</td>\n",
       "      <td>0.0</td>\n",
       "      <td>0.0</td>\n",
       "      <td>0.0</td>\n",
       "      <td>3</td>\n",
       "    </tr>\n",
       "    <tr>\n",
       "      <td>A2NOW4U7W3F7RI</td>\n",
       "      <td>0.0</td>\n",
       "      <td>0.0</td>\n",
       "      <td>0.0</td>\n",
       "      <td>0.0</td>\n",
       "      <td>0.0</td>\n",
       "      <td>0.0</td>\n",
       "      <td>0.0</td>\n",
       "      <td>0.0</td>\n",
       "      <td>0.0</td>\n",
       "      <td>0.0</td>\n",
       "      <td>...</td>\n",
       "      <td>5.0</td>\n",
       "      <td>5.0</td>\n",
       "      <td>0.0</td>\n",
       "      <td>0.0</td>\n",
       "      <td>5.0</td>\n",
       "      <td>0.0</td>\n",
       "      <td>5.0</td>\n",
       "      <td>5.0</td>\n",
       "      <td>5.0</td>\n",
       "      <td>4</td>\n",
       "    </tr>\n",
       "  </tbody>\n",
       "</table>\n",
       "<p>5 rows × 327 columns</p>\n",
       "</div>"
      ],
      "text/plain": [
       "ProductId       B00000J1US  B00004R8VC  B00004S9AK  B00004SA30  B00004SD9Q  \\\n",
       "UserId                                                                       \n",
       "A1F9Z42CFF9IAY         0.0         0.0         0.0         0.0         0.0   \n",
       "A1ODOGXEYECQQ8         0.0         0.0         0.0         0.0         0.0   \n",
       "A231WM2Z2JL0U3         5.0         5.0         5.0         5.0         5.0   \n",
       "A2AY4YUOX2N1BQ         0.0         0.0         0.0         0.0         0.0   \n",
       "A2NOW4U7W3F7RI         0.0         0.0         0.0         0.0         0.0   \n",
       "\n",
       "ProductId       B00004SSRC  B00004VVGH  B00004Z4ZB  B00004Z6OK  B00005AC8J  \\\n",
       "UserId                                                                       \n",
       "A1F9Z42CFF9IAY         0.0         0.0         0.0         0.0         0.0   \n",
       "A1ODOGXEYECQQ8         0.0         0.0         0.0         0.0         0.0   \n",
       "A231WM2Z2JL0U3         5.0         0.0         3.0         3.0         5.0   \n",
       "A2AY4YUOX2N1BQ         0.0         0.0         0.0         0.0         0.0   \n",
       "A2NOW4U7W3F7RI         0.0         0.0         0.0         0.0         0.0   \n",
       "\n",
       "ProductId       ...  B00I0Z427E  B00I9V8D92  B00IT2N9VS  B00ITI04YM  \\\n",
       "UserId          ...                                                   \n",
       "A1F9Z42CFF9IAY  ...         0.0         0.0         0.0         0.0   \n",
       "A1ODOGXEYECQQ8  ...         0.0         0.0         0.0         0.0   \n",
       "A231WM2Z2JL0U3  ...         0.0         0.0         0.0         0.0   \n",
       "A2AY4YUOX2N1BQ  ...         0.0         0.0         0.0         0.0   \n",
       "A2NOW4U7W3F7RI  ...         5.0         5.0         0.0         0.0   \n",
       "\n",
       "ProductId       B00JA4VO9S  B00JGGUBPI  B00K6B7KJM  B00KMRGB7C  B00KYMCJF8  \\\n",
       "UserId                                                                       \n",
       "A1F9Z42CFF9IAY         0.0         0.0         0.0         0.0         0.0   \n",
       "A1ODOGXEYECQQ8         0.0         4.0         0.0         0.0         0.0   \n",
       "A231WM2Z2JL0U3         0.0         0.0         0.0         0.0         0.0   \n",
       "A2AY4YUOX2N1BQ         0.0         0.0         0.0         0.0         0.0   \n",
       "A2NOW4U7W3F7RI         5.0         0.0         5.0         5.0         5.0   \n",
       "\n",
       "ProductId       user_index  \n",
       "UserId                      \n",
       "A1F9Z42CFF9IAY           0  \n",
       "A1ODOGXEYECQQ8           1  \n",
       "A231WM2Z2JL0U3           2  \n",
       "A2AY4YUOX2N1BQ           3  \n",
       "A2NOW4U7W3F7RI           4  \n",
       "\n",
       "[5 rows x 327 columns]"
      ]
     },
     "execution_count": 68,
     "metadata": {},
     "output_type": "execute_result"
    }
   ],
   "source": [
    "# add new column user_index to the DF\n",
    "rating_matrix['user_index']=np.arange(0,rating_matrix.shape[0],1)\n",
    "print('shape for the Matrix : ',rating_matrix.shape)\n",
    "rating_matrix.head()"
   ]
  },
  {
   "cell_type": "code",
   "execution_count": 69,
   "metadata": {},
   "outputs": [],
   "source": [
    "rating_matrix.set_index(['user_index'],inplace=True)"
   ]
  },
  {
   "cell_type": "markdown",
   "metadata": {},
   "source": [
    "# SVD "
   ]
  },
  {
   "cell_type": "code",
   "execution_count": 71,
   "metadata": {},
   "outputs": [],
   "source": [
    "from scipy.sparse.linalg import svds\n",
    "# Singular Value Decomposition\n",
    "U, sigma, Vt = svds(rating_matrix, k = 10)\n",
    "# Construction of  diagonal array in SVD\n",
    "sigma = np.diag(sigma)"
   ]
  },
  {
   "cell_type": "code",
   "execution_count": 72,
   "metadata": {},
   "outputs": [
    {
     "data": {
      "text/html": [
       "<div>\n",
       "<style scoped>\n",
       "    .dataframe tbody tr th:only-of-type {\n",
       "        vertical-align: middle;\n",
       "    }\n",
       "\n",
       "    .dataframe tbody tr th {\n",
       "        vertical-align: top;\n",
       "    }\n",
       "\n",
       "    .dataframe thead th {\n",
       "        text-align: right;\n",
       "    }\n",
       "</style>\n",
       "<table border=\"1\" class=\"dataframe\">\n",
       "  <thead>\n",
       "    <tr style=\"text-align: right;\">\n",
       "      <th>ProductId</th>\n",
       "      <th>B00000J1US</th>\n",
       "      <th>B00004R8VC</th>\n",
       "      <th>B00004S9AK</th>\n",
       "      <th>B00004SA30</th>\n",
       "      <th>B00004SD9Q</th>\n",
       "      <th>B00004SSRC</th>\n",
       "      <th>B00004VVGH</th>\n",
       "      <th>B00004Z4ZB</th>\n",
       "      <th>B00004Z6OK</th>\n",
       "      <th>B00005AC8J</th>\n",
       "      <th>...</th>\n",
       "      <th>B00HJ4GX10</th>\n",
       "      <th>B00I0Z427E</th>\n",
       "      <th>B00I9V8D92</th>\n",
       "      <th>B00IT2N9VS</th>\n",
       "      <th>B00ITI04YM</th>\n",
       "      <th>B00JA4VO9S</th>\n",
       "      <th>B00JGGUBPI</th>\n",
       "      <th>B00K6B7KJM</th>\n",
       "      <th>B00KMRGB7C</th>\n",
       "      <th>B00KYMCJF8</th>\n",
       "    </tr>\n",
       "  </thead>\n",
       "  <tbody>\n",
       "    <tr>\n",
       "      <td>0</td>\n",
       "      <td>3.825383e-01</td>\n",
       "      <td>3.825383e-01</td>\n",
       "      <td>3.825383e-01</td>\n",
       "      <td>3.825383e-01</td>\n",
       "      <td>3.825383e-01</td>\n",
       "      <td>3.825383e-01</td>\n",
       "      <td>2.277466e-15</td>\n",
       "      <td>2.295230e-01</td>\n",
       "      <td>2.295230e-01</td>\n",
       "      <td>3.825383e-01</td>\n",
       "      <td>...</td>\n",
       "      <td>3.166044e-16</td>\n",
       "      <td>6.690058e-16</td>\n",
       "      <td>6.690058e-16</td>\n",
       "      <td>-1.391081e-16</td>\n",
       "      <td>-1.043311e-16</td>\n",
       "      <td>6.690058e-16</td>\n",
       "      <td>6.673390e-16</td>\n",
       "      <td>6.690058e-16</td>\n",
       "      <td>6.690058e-16</td>\n",
       "      <td>6.690058e-16</td>\n",
       "    </tr>\n",
       "    <tr>\n",
       "      <td>1</td>\n",
       "      <td>-1.506044e-16</td>\n",
       "      <td>-1.506044e-16</td>\n",
       "      <td>-1.506044e-16</td>\n",
       "      <td>-1.506044e-16</td>\n",
       "      <td>-1.506044e-16</td>\n",
       "      <td>-1.506044e-16</td>\n",
       "      <td>1.166183e-15</td>\n",
       "      <td>-9.036265e-17</td>\n",
       "      <td>-9.036265e-17</td>\n",
       "      <td>-1.506044e-16</td>\n",
       "      <td>...</td>\n",
       "      <td>2.096460e-16</td>\n",
       "      <td>-5.134991e-16</td>\n",
       "      <td>-5.134991e-16</td>\n",
       "      <td>-8.531645e-17</td>\n",
       "      <td>-6.398734e-17</td>\n",
       "      <td>-5.134991e-16</td>\n",
       "      <td>4.000000e+00</td>\n",
       "      <td>-5.134991e-16</td>\n",
       "      <td>-5.134991e-16</td>\n",
       "      <td>-5.134991e-16</td>\n",
       "    </tr>\n",
       "    <tr>\n",
       "      <td>2</td>\n",
       "      <td>4.970560e+00</td>\n",
       "      <td>4.970560e+00</td>\n",
       "      <td>4.970560e+00</td>\n",
       "      <td>4.970560e+00</td>\n",
       "      <td>4.970560e+00</td>\n",
       "      <td>4.970560e+00</td>\n",
       "      <td>-6.495400e-17</td>\n",
       "      <td>2.982336e+00</td>\n",
       "      <td>2.982336e+00</td>\n",
       "      <td>4.970560e+00</td>\n",
       "      <td>...</td>\n",
       "      <td>5.410247e-16</td>\n",
       "      <td>-1.749254e-16</td>\n",
       "      <td>-1.749254e-16</td>\n",
       "      <td>3.114534e-16</td>\n",
       "      <td>2.335900e-16</td>\n",
       "      <td>-1.749254e-16</td>\n",
       "      <td>-1.204835e-16</td>\n",
       "      <td>-1.749254e-16</td>\n",
       "      <td>-1.749254e-16</td>\n",
       "      <td>-1.749254e-16</td>\n",
       "    </tr>\n",
       "    <tr>\n",
       "      <td>3</td>\n",
       "      <td>-4.316788e-16</td>\n",
       "      <td>-4.316788e-16</td>\n",
       "      <td>-4.316788e-16</td>\n",
       "      <td>-4.316788e-16</td>\n",
       "      <td>-4.316788e-16</td>\n",
       "      <td>-4.316788e-16</td>\n",
       "      <td>-1.258151e-16</td>\n",
       "      <td>-2.590073e-16</td>\n",
       "      <td>-2.590073e-16</td>\n",
       "      <td>-4.316788e-16</td>\n",
       "      <td>...</td>\n",
       "      <td>6.713828e-16</td>\n",
       "      <td>3.954431e-17</td>\n",
       "      <td>3.954431e-17</td>\n",
       "      <td>4.379548e-16</td>\n",
       "      <td>3.284661e-16</td>\n",
       "      <td>3.954431e-17</td>\n",
       "      <td>3.018975e-16</td>\n",
       "      <td>3.954431e-17</td>\n",
       "      <td>3.954431e-17</td>\n",
       "      <td>3.954431e-17</td>\n",
       "    </tr>\n",
       "    <tr>\n",
       "      <td>4</td>\n",
       "      <td>-1.749254e-16</td>\n",
       "      <td>-1.749254e-16</td>\n",
       "      <td>-1.749254e-16</td>\n",
       "      <td>-1.749254e-16</td>\n",
       "      <td>-1.749254e-16</td>\n",
       "      <td>-1.749254e-16</td>\n",
       "      <td>-2.660368e-15</td>\n",
       "      <td>-1.049552e-16</td>\n",
       "      <td>-1.049552e-16</td>\n",
       "      <td>-1.749254e-16</td>\n",
       "      <td>...</td>\n",
       "      <td>8.835703e-04</td>\n",
       "      <td>4.999840e+00</td>\n",
       "      <td>4.999840e+00</td>\n",
       "      <td>4.314698e-16</td>\n",
       "      <td>3.236024e-16</td>\n",
       "      <td>4.999840e+00</td>\n",
       "      <td>-4.107993e-16</td>\n",
       "      <td>4.999840e+00</td>\n",
       "      <td>4.999840e+00</td>\n",
       "      <td>4.999840e+00</td>\n",
       "    </tr>\n",
       "  </tbody>\n",
       "</table>\n",
       "<p>5 rows × 326 columns</p>\n",
       "</div>"
      ],
      "text/plain": [
       "ProductId    B00000J1US    B00004R8VC    B00004S9AK    B00004SA30  \\\n",
       "0          3.825383e-01  3.825383e-01  3.825383e-01  3.825383e-01   \n",
       "1         -1.506044e-16 -1.506044e-16 -1.506044e-16 -1.506044e-16   \n",
       "2          4.970560e+00  4.970560e+00  4.970560e+00  4.970560e+00   \n",
       "3         -4.316788e-16 -4.316788e-16 -4.316788e-16 -4.316788e-16   \n",
       "4         -1.749254e-16 -1.749254e-16 -1.749254e-16 -1.749254e-16   \n",
       "\n",
       "ProductId    B00004SD9Q    B00004SSRC    B00004VVGH    B00004Z4ZB  \\\n",
       "0          3.825383e-01  3.825383e-01  2.277466e-15  2.295230e-01   \n",
       "1         -1.506044e-16 -1.506044e-16  1.166183e-15 -9.036265e-17   \n",
       "2          4.970560e+00  4.970560e+00 -6.495400e-17  2.982336e+00   \n",
       "3         -4.316788e-16 -4.316788e-16 -1.258151e-16 -2.590073e-16   \n",
       "4         -1.749254e-16 -1.749254e-16 -2.660368e-15 -1.049552e-16   \n",
       "\n",
       "ProductId    B00004Z6OK    B00005AC8J  ...    B00HJ4GX10    B00I0Z427E  \\\n",
       "0          2.295230e-01  3.825383e-01  ...  3.166044e-16  6.690058e-16   \n",
       "1         -9.036265e-17 -1.506044e-16  ...  2.096460e-16 -5.134991e-16   \n",
       "2          2.982336e+00  4.970560e+00  ...  5.410247e-16 -1.749254e-16   \n",
       "3         -2.590073e-16 -4.316788e-16  ...  6.713828e-16  3.954431e-17   \n",
       "4         -1.049552e-16 -1.749254e-16  ...  8.835703e-04  4.999840e+00   \n",
       "\n",
       "ProductId    B00I9V8D92    B00IT2N9VS    B00ITI04YM    B00JA4VO9S  \\\n",
       "0          6.690058e-16 -1.391081e-16 -1.043311e-16  6.690058e-16   \n",
       "1         -5.134991e-16 -8.531645e-17 -6.398734e-17 -5.134991e-16   \n",
       "2         -1.749254e-16  3.114534e-16  2.335900e-16 -1.749254e-16   \n",
       "3          3.954431e-17  4.379548e-16  3.284661e-16  3.954431e-17   \n",
       "4          4.999840e+00  4.314698e-16  3.236024e-16  4.999840e+00   \n",
       "\n",
       "ProductId    B00JGGUBPI    B00K6B7KJM    B00KMRGB7C    B00KYMCJF8  \n",
       "0          6.673390e-16  6.690058e-16  6.690058e-16  6.690058e-16  \n",
       "1          4.000000e+00 -5.134991e-16 -5.134991e-16 -5.134991e-16  \n",
       "2         -1.204835e-16 -1.749254e-16 -1.749254e-16 -1.749254e-16  \n",
       "3          3.018975e-16  3.954431e-17  3.954431e-17  3.954431e-17  \n",
       "4         -4.107993e-16  4.999840e+00  4.999840e+00  4.999840e+00  \n",
       "\n",
       "[5 rows x 326 columns]"
      ]
     },
     "execution_count": 72,
     "metadata": {},
     "output_type": "execute_result"
    }
   ],
   "source": [
    "all_user_predicted_ratings = np.dot(np.dot(U, sigma), Vt) \n",
    "\n",
    "# Predicted Ratings\n",
    "preds_df = pd.DataFrame(all_user_predicted_ratings, columns = rating_matrix.columns)\n",
    "preds_df.head()"
   ]
  },
  {
   "cell_type": "code",
   "execution_count": 73,
   "metadata": {},
   "outputs": [
    {
     "data": {
      "text/plain": [
       "(13, 326)"
      ]
     },
     "execution_count": 73,
     "metadata": {},
     "output_type": "execute_result"
    }
   ],
   "source": [
    "preds_df.shape"
   ]
  },
  {
   "cell_type": "code",
   "execution_count": 78,
   "metadata": {},
   "outputs": [],
   "source": [
    "def recommend_items(userID, pivot_df, preds_df, num_recommendations):\n",
    "      \n",
    "    user_idx = userID-1 # index starts at 0\n",
    "    \n",
    "    # Get and sort the user's ratings\n",
    "    sorted_user_ratings = rating_matrix.iloc[user_idx].sort_values(ascending=False)\n",
    "    #sorted_user_ratings\n",
    "    sorted_user_predictions = preds_df.iloc[user_idx].sort_values(ascending=False)\n",
    "    #sorted_user_predictions\n",
    "\n",
    "    temp = pd.concat([sorted_user_ratings, sorted_user_predictions], axis=1)\n",
    "    temp.index.name = 'Recommended Items'\n",
    "    temp.columns = ['user_ratings', 'user_predictions']\n",
    "    \n",
    "    temp = temp.loc[temp.user_ratings == 0]   \n",
    "    temp = temp.sort_values('user_predictions', ascending=False)\n",
    "    print('\\nBelow are the recommended items for user(user_id = {}):\\n'.format(userID))\n",
    "    print(temp.head(num_recommendations))"
   ]
  },
  {
   "cell_type": "code",
   "execution_count": 79,
   "metadata": {},
   "outputs": [
    {
     "name": "stdout",
     "output_type": "stream",
     "text": [
      "\n",
      "Below are the recommended items for user(user_id = 12):\n",
      "\n",
      "                   user_ratings  user_predictions\n",
      "Recommended Items                                \n",
      "B00HHRP11C                  0.0      2.787053e-15\n",
      "B00CD8ADKO                  0.0      2.413779e-15\n",
      "B00BD7L16G                  0.0      1.866366e-15\n",
      "B003TNMABW                  0.0      1.866366e-15\n",
      "B000M4XMGI                  0.0      1.866366e-15\n"
     ]
    }
   ],
   "source": [
    "#Enter 'userID' and 'num_recommendations' for the user #\n",
    "userID = 12\n",
    "num_recommendations = 5\n",
    "recommend_items(userID, rating_matrix, preds_df, num_recommendations)"
   ]
  },
  {
   "cell_type": "markdown",
   "metadata": {},
   "source": [
    "# Evaluating both Models"
   ]
  },
  {
   "cell_type": "code",
   "execution_count": 80,
   "metadata": {},
   "outputs": [
    {
     "data": {
      "text/html": [
       "<div>\n",
       "<style scoped>\n",
       "    .dataframe tbody tr th:only-of-type {\n",
       "        vertical-align: middle;\n",
       "    }\n",
       "\n",
       "    .dataframe tbody tr th {\n",
       "        vertical-align: top;\n",
       "    }\n",
       "\n",
       "    .dataframe thead th {\n",
       "        text-align: right;\n",
       "    }\n",
       "</style>\n",
       "<table border=\"1\" class=\"dataframe\">\n",
       "  <thead>\n",
       "    <tr style=\"text-align: right;\">\n",
       "      <th>ProductId</th>\n",
       "      <th>B00000J1US</th>\n",
       "      <th>B00004R8VC</th>\n",
       "      <th>B00004S9AK</th>\n",
       "      <th>B00004SA30</th>\n",
       "      <th>B00004SD9Q</th>\n",
       "      <th>B00004SSRC</th>\n",
       "      <th>B00004VVGH</th>\n",
       "      <th>B00004Z4ZB</th>\n",
       "      <th>B00004Z6OK</th>\n",
       "      <th>B00005AC8J</th>\n",
       "      <th>...</th>\n",
       "      <th>B00HJ4GX10</th>\n",
       "      <th>B00I0Z427E</th>\n",
       "      <th>B00I9V8D92</th>\n",
       "      <th>B00IT2N9VS</th>\n",
       "      <th>B00ITI04YM</th>\n",
       "      <th>B00JA4VO9S</th>\n",
       "      <th>B00JGGUBPI</th>\n",
       "      <th>B00K6B7KJM</th>\n",
       "      <th>B00KMRGB7C</th>\n",
       "      <th>B00KYMCJF8</th>\n",
       "    </tr>\n",
       "    <tr>\n",
       "      <th>user_index</th>\n",
       "      <th></th>\n",
       "      <th></th>\n",
       "      <th></th>\n",
       "      <th></th>\n",
       "      <th></th>\n",
       "      <th></th>\n",
       "      <th></th>\n",
       "      <th></th>\n",
       "      <th></th>\n",
       "      <th></th>\n",
       "      <th></th>\n",
       "      <th></th>\n",
       "      <th></th>\n",
       "      <th></th>\n",
       "      <th></th>\n",
       "      <th></th>\n",
       "      <th></th>\n",
       "      <th></th>\n",
       "      <th></th>\n",
       "      <th></th>\n",
       "      <th></th>\n",
       "    </tr>\n",
       "  </thead>\n",
       "  <tbody>\n",
       "    <tr>\n",
       "      <td>0</td>\n",
       "      <td>0.0</td>\n",
       "      <td>0.0</td>\n",
       "      <td>0.0</td>\n",
       "      <td>0.0</td>\n",
       "      <td>0.0</td>\n",
       "      <td>0.0</td>\n",
       "      <td>0.0</td>\n",
       "      <td>0.0</td>\n",
       "      <td>0.0</td>\n",
       "      <td>0.0</td>\n",
       "      <td>...</td>\n",
       "      <td>0.0</td>\n",
       "      <td>0.0</td>\n",
       "      <td>0.0</td>\n",
       "      <td>0.0</td>\n",
       "      <td>0.0</td>\n",
       "      <td>0.0</td>\n",
       "      <td>0.0</td>\n",
       "      <td>0.0</td>\n",
       "      <td>0.0</td>\n",
       "      <td>0.0</td>\n",
       "    </tr>\n",
       "    <tr>\n",
       "      <td>1</td>\n",
       "      <td>0.0</td>\n",
       "      <td>0.0</td>\n",
       "      <td>0.0</td>\n",
       "      <td>0.0</td>\n",
       "      <td>0.0</td>\n",
       "      <td>0.0</td>\n",
       "      <td>0.0</td>\n",
       "      <td>0.0</td>\n",
       "      <td>0.0</td>\n",
       "      <td>0.0</td>\n",
       "      <td>...</td>\n",
       "      <td>0.0</td>\n",
       "      <td>0.0</td>\n",
       "      <td>0.0</td>\n",
       "      <td>0.0</td>\n",
       "      <td>0.0</td>\n",
       "      <td>0.0</td>\n",
       "      <td>4.0</td>\n",
       "      <td>0.0</td>\n",
       "      <td>0.0</td>\n",
       "      <td>0.0</td>\n",
       "    </tr>\n",
       "    <tr>\n",
       "      <td>2</td>\n",
       "      <td>5.0</td>\n",
       "      <td>5.0</td>\n",
       "      <td>5.0</td>\n",
       "      <td>5.0</td>\n",
       "      <td>5.0</td>\n",
       "      <td>5.0</td>\n",
       "      <td>0.0</td>\n",
       "      <td>3.0</td>\n",
       "      <td>3.0</td>\n",
       "      <td>5.0</td>\n",
       "      <td>...</td>\n",
       "      <td>0.0</td>\n",
       "      <td>0.0</td>\n",
       "      <td>0.0</td>\n",
       "      <td>0.0</td>\n",
       "      <td>0.0</td>\n",
       "      <td>0.0</td>\n",
       "      <td>0.0</td>\n",
       "      <td>0.0</td>\n",
       "      <td>0.0</td>\n",
       "      <td>0.0</td>\n",
       "    </tr>\n",
       "    <tr>\n",
       "      <td>3</td>\n",
       "      <td>0.0</td>\n",
       "      <td>0.0</td>\n",
       "      <td>0.0</td>\n",
       "      <td>0.0</td>\n",
       "      <td>0.0</td>\n",
       "      <td>0.0</td>\n",
       "      <td>0.0</td>\n",
       "      <td>0.0</td>\n",
       "      <td>0.0</td>\n",
       "      <td>0.0</td>\n",
       "      <td>...</td>\n",
       "      <td>0.0</td>\n",
       "      <td>0.0</td>\n",
       "      <td>0.0</td>\n",
       "      <td>0.0</td>\n",
       "      <td>0.0</td>\n",
       "      <td>0.0</td>\n",
       "      <td>0.0</td>\n",
       "      <td>0.0</td>\n",
       "      <td>0.0</td>\n",
       "      <td>0.0</td>\n",
       "    </tr>\n",
       "    <tr>\n",
       "      <td>4</td>\n",
       "      <td>0.0</td>\n",
       "      <td>0.0</td>\n",
       "      <td>0.0</td>\n",
       "      <td>0.0</td>\n",
       "      <td>0.0</td>\n",
       "      <td>0.0</td>\n",
       "      <td>0.0</td>\n",
       "      <td>0.0</td>\n",
       "      <td>0.0</td>\n",
       "      <td>0.0</td>\n",
       "      <td>...</td>\n",
       "      <td>0.0</td>\n",
       "      <td>5.0</td>\n",
       "      <td>5.0</td>\n",
       "      <td>0.0</td>\n",
       "      <td>0.0</td>\n",
       "      <td>5.0</td>\n",
       "      <td>0.0</td>\n",
       "      <td>5.0</td>\n",
       "      <td>5.0</td>\n",
       "      <td>5.0</td>\n",
       "    </tr>\n",
       "  </tbody>\n",
       "</table>\n",
       "<p>5 rows × 326 columns</p>\n",
       "</div>"
      ],
      "text/plain": [
       "ProductId   B00000J1US  B00004R8VC  B00004S9AK  B00004SA30  B00004SD9Q  \\\n",
       "user_index                                                               \n",
       "0                  0.0         0.0         0.0         0.0         0.0   \n",
       "1                  0.0         0.0         0.0         0.0         0.0   \n",
       "2                  5.0         5.0         5.0         5.0         5.0   \n",
       "3                  0.0         0.0         0.0         0.0         0.0   \n",
       "4                  0.0         0.0         0.0         0.0         0.0   \n",
       "\n",
       "ProductId   B00004SSRC  B00004VVGH  B00004Z4ZB  B00004Z6OK  B00005AC8J  ...  \\\n",
       "user_index                                                              ...   \n",
       "0                  0.0         0.0         0.0         0.0         0.0  ...   \n",
       "1                  0.0         0.0         0.0         0.0         0.0  ...   \n",
       "2                  5.0         0.0         3.0         3.0         5.0  ...   \n",
       "3                  0.0         0.0         0.0         0.0         0.0  ...   \n",
       "4                  0.0         0.0         0.0         0.0         0.0  ...   \n",
       "\n",
       "ProductId   B00HJ4GX10  B00I0Z427E  B00I9V8D92  B00IT2N9VS  B00ITI04YM  \\\n",
       "user_index                                                               \n",
       "0                  0.0         0.0         0.0         0.0         0.0   \n",
       "1                  0.0         0.0         0.0         0.0         0.0   \n",
       "2                  0.0         0.0         0.0         0.0         0.0   \n",
       "3                  0.0         0.0         0.0         0.0         0.0   \n",
       "4                  0.0         5.0         5.0         0.0         0.0   \n",
       "\n",
       "ProductId   B00JA4VO9S  B00JGGUBPI  B00K6B7KJM  B00KMRGB7C  B00KYMCJF8  \n",
       "user_index                                                              \n",
       "0                  0.0         0.0         0.0         0.0         0.0  \n",
       "1                  0.0         4.0         0.0         0.0         0.0  \n",
       "2                  0.0         0.0         0.0         0.0         0.0  \n",
       "3                  0.0         0.0         0.0         0.0         0.0  \n",
       "4                  5.0         0.0         5.0         5.0         5.0  \n",
       "\n",
       "[5 rows x 326 columns]"
      ]
     },
     "execution_count": 80,
     "metadata": {},
     "output_type": "execute_result"
    }
   ],
   "source": [
    "# Evaluation of Model-based Collaborative Filtering (SVD)\n",
    "results=pd.DataFrame(index=['RMSE'])\n",
    "# Actual ratings given by the users\n",
    "rating_matrix.head()"
   ]
  },
  {
   "cell_type": "code",
   "execution_count": 81,
   "metadata": {},
   "outputs": [
    {
     "data": {
      "text/plain": [
       "ProductId\n",
       "B00000J1US    0.384615\n",
       "B00004R8VC    0.384615\n",
       "B00004S9AK    0.384615\n",
       "B00004SA30    0.384615\n",
       "B00004SD9Q    0.384615\n",
       "dtype: float64"
      ]
     },
     "execution_count": 81,
     "metadata": {},
     "output_type": "execute_result"
    }
   ],
   "source": [
    "rating_matrix.mean().head()"
   ]
  },
  {
   "cell_type": "code",
   "execution_count": 82,
   "metadata": {},
   "outputs": [
    {
     "data": {
      "text/plain": [
       "ProductId\n",
       "B00000J1US    0.411777\n",
       "B00004R8VC    0.411777\n",
       "B00004S9AK    0.411777\n",
       "B00004SA30    0.411777\n",
       "B00004SD9Q    0.411777\n",
       "dtype: float64"
      ]
     },
     "execution_count": 82,
     "metadata": {},
     "output_type": "execute_result"
    }
   ],
   "source": [
    "preds_df.mean().head()"
   ]
  },
  {
   "cell_type": "code",
   "execution_count": 83,
   "metadata": {},
   "outputs": [
    {
     "name": "stdout",
     "output_type": "stream",
     "text": [
      "(326, 2)\n"
     ]
    },
    {
     "data": {
      "text/html": [
       "<div>\n",
       "<style scoped>\n",
       "    .dataframe tbody tr th:only-of-type {\n",
       "        vertical-align: middle;\n",
       "    }\n",
       "\n",
       "    .dataframe tbody tr th {\n",
       "        vertical-align: top;\n",
       "    }\n",
       "\n",
       "    .dataframe thead th {\n",
       "        text-align: right;\n",
       "    }\n",
       "</style>\n",
       "<table border=\"1\" class=\"dataframe\">\n",
       "  <thead>\n",
       "    <tr style=\"text-align: right;\">\n",
       "      <th></th>\n",
       "      <th>Avg_actual_ratings</th>\n",
       "      <th>Avg_predicted_ratings</th>\n",
       "      <th>item_index</th>\n",
       "    </tr>\n",
       "    <tr>\n",
       "      <th>ProductId</th>\n",
       "      <th></th>\n",
       "      <th></th>\n",
       "      <th></th>\n",
       "    </tr>\n",
       "  </thead>\n",
       "  <tbody>\n",
       "    <tr>\n",
       "      <td>B00000J1US</td>\n",
       "      <td>0.384615</td>\n",
       "      <td>0.411777</td>\n",
       "      <td>0</td>\n",
       "    </tr>\n",
       "    <tr>\n",
       "      <td>B00004R8VC</td>\n",
       "      <td>0.384615</td>\n",
       "      <td>0.411777</td>\n",
       "      <td>1</td>\n",
       "    </tr>\n",
       "    <tr>\n",
       "      <td>B00004S9AK</td>\n",
       "      <td>0.384615</td>\n",
       "      <td>0.411777</td>\n",
       "      <td>2</td>\n",
       "    </tr>\n",
       "    <tr>\n",
       "      <td>B00004SA30</td>\n",
       "      <td>0.384615</td>\n",
       "      <td>0.411777</td>\n",
       "      <td>3</td>\n",
       "    </tr>\n",
       "    <tr>\n",
       "      <td>B00004SD9Q</td>\n",
       "      <td>0.384615</td>\n",
       "      <td>0.411777</td>\n",
       "      <td>4</td>\n",
       "    </tr>\n",
       "  </tbody>\n",
       "</table>\n",
       "</div>"
      ],
      "text/plain": [
       "            Avg_actual_ratings  Avg_predicted_ratings  item_index\n",
       "ProductId                                                        \n",
       "B00000J1US            0.384615               0.411777           0\n",
       "B00004R8VC            0.384615               0.411777           1\n",
       "B00004S9AK            0.384615               0.411777           2\n",
       "B00004SA30            0.384615               0.411777           3\n",
       "B00004SD9Q            0.384615               0.411777           4"
      ]
     },
     "execution_count": 83,
     "metadata": {},
     "output_type": "execute_result"
    }
   ],
   "source": [
    "# Preparing a DataFrame for Avg of Actual and Avg of Predicted rating\n",
    "rmse_df = pd.concat([rating_matrix.mean(), preds_df.mean()], axis=1)\n",
    "rmse_df.columns = ['Avg_actual_ratings', 'Avg_predicted_ratings']\n",
    "print(rmse_df.shape)\n",
    "rmse_df['item_index'] = np.arange(0, rmse_df.shape[0], 1)\n",
    "rmse_df.head()"
   ]
  },
  {
   "cell_type": "code",
   "execution_count": 84,
   "metadata": {},
   "outputs": [
    {
     "name": "stdout",
     "output_type": "stream",
     "text": [
      "\n",
      "RMSE SVD Model = 0.13244 \n",
      "\n"
     ]
    }
   ],
   "source": [
    "# Calculating the RMSE for the SVD model\n",
    "RMSE = round((((rmse_df.Avg_actual_ratings - rmse_df.Avg_predicted_ratings) ** 2).mean() ** 0.5), 5)\n",
    "print('\\nRMSE SVD Model = {} \\n'.format(RMSE))"
   ]
  },
  {
   "cell_type": "code",
   "execution_count": 86,
   "metadata": {},
   "outputs": [],
   "source": [
    "results['SVD'] = RMSE"
   ]
  },
  {
   "cell_type": "markdown",
   "metadata": {},
   "source": [
    "# Time for a Surprise"
   ]
  },
  {
   "cell_type": "code",
   "execution_count": 88,
   "metadata": {},
   "outputs": [],
   "source": [
    "from surprise.model_selection import train_test_split\n",
    "from surprise import Reader, Dataset\n",
    "from surprise import SVD, accuracy\n",
    "reader = Reader()\n",
    "data = Dataset.load_from_df(DFZ[['UserId', 'ProductId', 'Rating']], reader)"
   ]
  },
  {
   "cell_type": "code",
   "execution_count": 89,
   "metadata": {},
   "outputs": [],
   "source": [
    "trainset, testset = train_test_split(data, test_size=0.30)"
   ]
  },
  {
   "cell_type": "markdown",
   "metadata": {},
   "source": [
    "# KNN User Based Collaborative Filtering "
   ]
  },
  {
   "cell_type": "code",
   "execution_count": 90,
   "metadata": {},
   "outputs": [
    {
     "name": "stdout",
     "output_type": "stream",
     "text": [
      "Computing the cosine similarity matrix...\n",
      "Done computing similarity matrix.\n"
     ]
    },
    {
     "data": {
      "text/plain": [
       "<surprise.prediction_algorithms.knns.KNNWithMeans at 0x2354198a388>"
      ]
     },
     "execution_count": 90,
     "metadata": {},
     "output_type": "execute_result"
    }
   ],
   "source": [
    "from surprise import KNNWithMeans\n",
    "algo = KNNWithMeans(k=25, sim_options={'name': 'cosine', 'user_based': True})\n",
    "algo.fit(trainset)\n",
    "test_pred = algo.test(testset)"
   ]
  },
  {
   "cell_type": "markdown",
   "metadata": {},
   "source": [
    "# RMSE"
   ]
  },
  {
   "cell_type": "code",
   "execution_count": 91,
   "metadata": {},
   "outputs": [
    {
     "name": "stdout",
     "output_type": "stream",
     "text": [
      "User-based Model : Test Set\n",
      "RMSE: 0.9592\n"
     ]
    },
    {
     "data": {
      "text/plain": [
       "0.9591749013840295"
      ]
     },
     "execution_count": 91,
     "metadata": {},
     "output_type": "execute_result"
    },
    {
     "name": "stdout",
     "output_type": "stream",
     "text": [
      "User-based Model : Test Set\n",
      "RMSE: 0.9592\n"
     ]
    },
    {
     "data": {
      "text/plain": [
       "0.9591749013840295"
      ]
     },
     "execution_count": 91,
     "metadata": {},
     "output_type": "execute_result"
    }
   ],
   "source": [
    "\n",
    "print(\"User-based Model : Test Set\")\n",
    "accuracy.rmse(test_pred, verbose=True)\n",
    "print(\"User-based Model : Test Set\")\n",
    "accuracy.rmse(test_pred, verbose=True)"
   ]
  },
  {
   "cell_type": "code",
   "execution_count": 92,
   "metadata": {},
   "outputs": [
    {
     "name": "stdout",
     "output_type": "stream",
     "text": [
      "RMSE: 0.9592\n"
     ]
    }
   ],
   "source": [
    "results['KNN User-User - CF'] = accuracy.rmse(test_pred, verbose=True)"
   ]
  },
  {
   "cell_type": "code",
   "execution_count": 93,
   "metadata": {},
   "outputs": [
    {
     "name": "stdout",
     "output_type": "stream",
     "text": [
      "Results Both The Models: \n",
      "           SVD  KNN User-User - CF\n",
      "RMSE  0.13244            0.959175\n"
     ]
    }
   ],
   "source": [
    "print(\"Results Both The Models: \\n\",results)"
   ]
  },
  {
   "cell_type": "markdown",
   "metadata": {},
   "source": [
    "# Top - K ( K = 5) Recommendations"
   ]
  },
  {
   "cell_type": "code",
   "execution_count": 101,
   "metadata": {},
   "outputs": [
    {
     "name": "stdout",
     "output_type": "stream",
     "text": [
      "\n",
      "Below are the recommended items for user(user_id = 1):\n",
      "\n",
      "                   user_ratings  user_predictions\n",
      "Recommended Items                                \n",
      "B00000J1US                  0.0          0.382538\n",
      "B00005AC8J                  0.0          0.382538\n",
      "B000066JQU                  0.0          0.382538\n",
      "B00006LHEE                  0.0          0.382538\n",
      "B00006SG3W                  0.0          0.382538\n",
      "\n",
      "Below are the recommended items for user(user_id = 5):\n",
      "\n",
      "                   user_ratings  user_predictions\n",
      "Recommended Items                                \n",
      "B001XURP7W                  0.0          0.000884\n",
      "B00BTJIJ40                  0.0          0.000884\n",
      "B0014Z29OU                  0.0          0.000884\n",
      "B0049MOJ2U                  0.0          0.000884\n",
      "B000VMU9VC                  0.0          0.000884\n",
      "\n",
      "Below are the recommended items for user(user_id = 10):\n",
      "\n",
      "                   user_ratings  user_predictions\n",
      "Recommended Items                                \n",
      "B0012UKOV2                  0.0      1.358413e-15\n",
      "B00AWYN0BU                  0.0      1.358413e-15\n",
      "B004J3ZV62                  0.0      1.358413e-15\n",
      "B000L475L2                  0.0      1.358413e-15\n",
      "B001SER47O                  0.0      1.358413e-15\n"
     ]
    }
   ],
   "source": [
    "# Enter 'UserId' and 'num_recommendations' for the user #\n",
    "UserId = [1,5,10]\n",
    "num_recommendations = 5\n",
    "recommend_items(UserId[0], rating_matrix, preds_df, num_recommendations)\n",
    "recommend_items(UserId[1], rating_matrix, preds_df, num_recommendations)\n",
    "recommend_items(UserId[2], rating_matrix, preds_df, num_recommendations)"
   ]
  },
  {
   "cell_type": "markdown",
   "metadata": {},
   "source": [
    "Model-based Collaborative Filtering is a customized recommender framework, the proposals depend on the past conduct of the user and it isn't subject to any extra data. \n",
    "\n",
    "The Popularity-based recommender framework is non-customized and the suggestions depend on frequecy checks, which might be not reasonable to the user.\n",
    "One can see the differance above for the User id 1 ,5 and 10. \n",
    "The Popularity based model has suggested similar arrangement of 5 items to both however Collaborative Filtering based model has suggested whole extraordinary rundown dependent on the user's past purchase history"
   ]
  }
 ],
 "metadata": {
  "kernelspec": {
   "display_name": "Python 3",
   "language": "python",
   "name": "python3"
  },
  "language_info": {
   "codemirror_mode": {
    "name": "ipython",
    "version": 3
   },
   "file_extension": ".py",
   "mimetype": "text/x-python",
   "name": "python",
   "nbconvert_exporter": "python",
   "pygments_lexer": "ipython3",
   "version": "3.7.4"
  }
 },
 "nbformat": 4,
 "nbformat_minor": 2
}
